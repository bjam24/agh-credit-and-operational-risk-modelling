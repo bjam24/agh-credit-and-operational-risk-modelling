{
 "cells": [
  {
   "cell_type": "markdown",
   "id": "cbb1b370",
   "metadata": {},
   "source": [
    "# Laboratory 3 - Models in credit and operational risk\n",
    "**Bartłomiej Jamiołkowski 19.03.2022**"
   ]
  },
  {
   "cell_type": "markdown",
   "id": "3c4a4daf",
   "metadata": {},
   "source": [
    "## Exercise 1"
   ]
  },
  {
   "cell_type": "markdown",
   "id": "5bb9a3f0",
   "metadata": {},
   "source": [
    "**What is the construction of the scoring model?**"
   ]
  },
  {
   "cell_type": "markdown",
   "id": "4233c08d",
   "metadata": {},
   "source": [
    "Building a scoring model consists of several stages. The first step is to take into account the factors that receive the score. After selecting the explanatory and explained variables, the sample is divided into a training and test set. The built model is validated and then scaled. Finally, a cut-off point is selected."
   ]
  },
  {
   "cell_type": "markdown",
   "id": "d6453aeb",
   "metadata": {},
   "source": [
    "**In a few sentences, describe your intuition related to your chosen statistical learning method.**"
   ]
  },
  {
   "cell_type": "markdown",
   "id": "6bd64f62",
   "metadata": {},
   "source": [
    "Naive Bayes classifier is a supervised statistical learning algorithm used for classification tasks.\n",
    "It is used to find a class of observations based on a set of feature values that, according to Bayesian theory, are mutually independent and there is no correlation between them. In fact, this assumption is not met, hence the name \"naive\" algorithm.\n",
    "The Naive Bayes classifier calculates the probability of a class given a set of feature values.\n",
    "\n",
    "Action:\n",
    "\n",
    "1) Calculating prior probability for given class labels.\n",
    "\n",
    "2) Calculating the conditional probability with each attribute for each class.\n",
    "\n",
    "3) Multiplying the conditional probabilities of the same class.\n",
    "\n",
    "4) Multiplying the prior probability by the conditional probability.\n",
    "\n",
    "5) Checking which class has the highest probability."
   ]
  },
  {
   "cell_type": "markdown",
   "id": "0fa722b6",
   "metadata": {},
   "source": [
    "## Exercise 2"
   ]
  },
  {
   "cell_type": "markdown",
   "id": "f1d53114",
   "metadata": {},
   "source": [
    "**Libraries used**"
   ]
  },
  {
   "cell_type": "code",
   "execution_count": 55,
   "id": "d2d352c3",
   "metadata": {},
   "outputs": [],
   "source": [
    "options(warn=-1)\n",
    "library(dplyr)\n",
    "library(extraoperators)\n",
    "library(weights)\n",
    "library(e1071) \n",
    "library(ggplot2)\n",
    "library(GGally)\n",
    "library(caret)\n",
    "library(caTools)\n",
    "library(MASS)"
   ]
  },
  {
   "cell_type": "markdown",
   "id": "a7a053f1",
   "metadata": {},
   "source": [
    "**Data import**"
   ]
  },
  {
   "cell_type": "markdown",
   "id": "b2f9c961",
   "metadata": {},
   "source": [
    "The dataset contains 1000 examples and 21 variables (20 potential explanatory variables and 1 explained variable)."
   ]
  },
  {
   "cell_type": "code",
   "execution_count": 2,
   "id": "923f9e5d",
   "metadata": {},
   "outputs": [],
   "source": [
    "german_credit <-  read.table(\"german.data\", fileEncoding = \"UTF-8\", sep = \" \")"
   ]
  },
  {
   "cell_type": "code",
   "execution_count": 3,
   "id": "89d477b7",
   "metadata": {},
   "outputs": [
    {
     "data": {
      "text/html": [
       "<table>\n",
       "<thead><tr><th scope=col>V1</th><th scope=col>V2</th><th scope=col>V3</th><th scope=col>V4</th><th scope=col>V5</th><th scope=col>V6</th><th scope=col>V7</th><th scope=col>V8</th><th scope=col>V9</th><th scope=col>V10</th><th scope=col>...</th><th scope=col>V12</th><th scope=col>V13</th><th scope=col>V14</th><th scope=col>V15</th><th scope=col>V16</th><th scope=col>V17</th><th scope=col>V18</th><th scope=col>V19</th><th scope=col>V20</th><th scope=col>V21</th></tr></thead>\n",
       "<tbody>\n",
       "\t<tr><td>A11 </td><td> 6  </td><td>A34 </td><td>A43 </td><td>1169</td><td>A65 </td><td>A75 </td><td>4   </td><td>A93 </td><td>A101</td><td>... </td><td>A121</td><td>67  </td><td>A143</td><td>A152</td><td>2   </td><td>A173</td><td>1   </td><td>A192</td><td>A201</td><td>1   </td></tr>\n",
       "\t<tr><td>A12 </td><td>48  </td><td>A32 </td><td>A43 </td><td>5951</td><td>A61 </td><td>A73 </td><td>2   </td><td>A92 </td><td>A101</td><td>... </td><td>A121</td><td>22  </td><td>A143</td><td>A152</td><td>1   </td><td>A173</td><td>1   </td><td>A191</td><td>A201</td><td>2   </td></tr>\n",
       "\t<tr><td>A14 </td><td>12  </td><td>A34 </td><td>A46 </td><td>2096</td><td>A61 </td><td>A74 </td><td>2   </td><td>A93 </td><td>A101</td><td>... </td><td>A121</td><td>49  </td><td>A143</td><td>A152</td><td>1   </td><td>A172</td><td>2   </td><td>A191</td><td>A201</td><td>1   </td></tr>\n",
       "</tbody>\n",
       "</table>\n"
      ],
      "text/latex": [
       "\\begin{tabular}{r|lllllllllllllllllllll}\n",
       " V1 & V2 & V3 & V4 & V5 & V6 & V7 & V8 & V9 & V10 & ... & V12 & V13 & V14 & V15 & V16 & V17 & V18 & V19 & V20 & V21\\\\\n",
       "\\hline\n",
       "\t A11  &  6   & A34  & A43  & 1169 & A65  & A75  & 4    & A93  & A101 & ...  & A121 & 67   & A143 & A152 & 2    & A173 & 1    & A192 & A201 & 1   \\\\\n",
       "\t A12  & 48   & A32  & A43  & 5951 & A61  & A73  & 2    & A92  & A101 & ...  & A121 & 22   & A143 & A152 & 1    & A173 & 1    & A191 & A201 & 2   \\\\\n",
       "\t A14  & 12   & A34  & A46  & 2096 & A61  & A74  & 2    & A93  & A101 & ...  & A121 & 49   & A143 & A152 & 1    & A172 & 2    & A191 & A201 & 1   \\\\\n",
       "\\end{tabular}\n"
      ],
      "text/markdown": [
       "\n",
       "| V1 | V2 | V3 | V4 | V5 | V6 | V7 | V8 | V9 | V10 | ... | V12 | V13 | V14 | V15 | V16 | V17 | V18 | V19 | V20 | V21 |\n",
       "|---|---|---|---|---|---|---|---|---|---|---|---|---|---|---|---|---|---|---|---|---|\n",
       "| A11  |  6   | A34  | A43  | 1169 | A65  | A75  | 4    | A93  | A101 | ...  | A121 | 67   | A143 | A152 | 2    | A173 | 1    | A192 | A201 | 1    |\n",
       "| A12  | 48   | A32  | A43  | 5951 | A61  | A73  | 2    | A92  | A101 | ...  | A121 | 22   | A143 | A152 | 1    | A173 | 1    | A191 | A201 | 2    |\n",
       "| A14  | 12   | A34  | A46  | 2096 | A61  | A74  | 2    | A93  | A101 | ...  | A121 | 49   | A143 | A152 | 1    | A172 | 2    | A191 | A201 | 1    |\n",
       "\n"
      ],
      "text/plain": [
       "  V1  V2 V3  V4  V5   V6  V7  V8 V9  V10  ... V12  V13 V14  V15  V16 V17  V18\n",
       "1 A11  6 A34 A43 1169 A65 A75 4  A93 A101 ... A121 67  A143 A152 2   A173 1  \n",
       "2 A12 48 A32 A43 5951 A61 A73 2  A92 A101 ... A121 22  A143 A152 1   A173 1  \n",
       "3 A14 12 A34 A46 2096 A61 A74 2  A93 A101 ... A121 49  A143 A152 1   A172 2  \n",
       "  V19  V20  V21\n",
       "1 A192 A201 1  \n",
       "2 A191 A201 2  \n",
       "3 A191 A201 1  "
      ]
     },
     "metadata": {},
     "output_type": "display_data"
    }
   ],
   "source": [
    "head(german_credit, n = 3)"
   ]
  },
  {
   "cell_type": "markdown",
   "id": "cd6be4db",
   "metadata": {},
   "source": [
    "**Description of variables**"
   ]
  },
  {
   "cell_type": "markdown",
   "id": "cb5f5726",
   "metadata": {},
   "source": [
    "Understanding the importance of variables is essential in their selection to predict loan granting."
   ]
  },
  {
   "cell_type": "markdown",
   "id": "aa387c6b",
   "metadata": {},
   "source": [
    "* V1 - account balance\n",
    "* V2 - loan period in months\n",
    "* V3 - credit history\n",
    "* V4 - loan purpose\n",
    "* V5 - loan amount\n",
    "* V6 - Savings account\n",
    "* V7 - length of current employment\n",
    "* V8 - installment rate as a percentage of disposable income\n",
    "* V9 - personal status and gender\n",
    "* V10 - guarantors\n",
    "* V11 - length of residence at the current address\n",
    "* V12 - real estate\n",
    "* V13 - age in years\n",
    "* V14 - other installment plans\n",
    "* V15 - type of residence\n",
    "* V16 - number of loans taken in this bank\n",
    "* V17 - employment status\n",
    "* V18 - number of wards\n",
    "* V19 - telephone\n",
    "* V20 - foreign employee\n",
    "* V21 - creditworthiness (1 - credit, 2 - no credit)"
   ]
  },
  {
   "cell_type": "markdown",
   "id": "dfcfd23e",
   "metadata": {},
   "source": [
    "**Data structure**"
   ]
  },
  {
   "cell_type": "markdown",
   "id": "5cebf19a",
   "metadata": {},
   "source": [
    "Checking variable types."
   ]
  },
  {
   "cell_type": "code",
   "execution_count": 4,
   "id": "b99330eb",
   "metadata": {},
   "outputs": [
    {
     "name": "stdout",
     "output_type": "stream",
     "text": [
      "'data.frame':\t1000 obs. of  21 variables:\n",
      " $ V1 : Factor w/ 4 levels \"A11\",\"A12\",\"A13\",..: 1 2 4 1 1 4 4 2 4 2 ...\n",
      " $ V2 : int  6 48 12 42 24 36 24 36 12 30 ...\n",
      " $ V3 : Factor w/ 5 levels \"A30\",\"A31\",\"A32\",..: 5 3 5 3 4 3 3 3 3 5 ...\n",
      " $ V4 : Factor w/ 10 levels \"A40\",\"A41\",\"A410\",..: 5 5 8 4 1 8 4 2 5 1 ...\n",
      " $ V5 : int  1169 5951 2096 7882 4870 9055 2835 6948 3059 5234 ...\n",
      " $ V6 : Factor w/ 5 levels \"A61\",\"A62\",\"A63\",..: 5 1 1 1 1 5 3 1 4 1 ...\n",
      " $ V7 : Factor w/ 5 levels \"A71\",\"A72\",\"A73\",..: 5 3 4 4 3 3 5 3 4 1 ...\n",
      " $ V8 : int  4 2 2 2 3 2 3 2 2 4 ...\n",
      " $ V9 : Factor w/ 4 levels \"A91\",\"A92\",\"A93\",..: 3 2 3 3 3 3 3 3 1 4 ...\n",
      " $ V10: Factor w/ 3 levels \"A101\",\"A102\",..: 1 1 1 3 1 1 1 1 1 1 ...\n",
      " $ V11: int  4 2 3 4 4 4 4 2 4 2 ...\n",
      " $ V12: Factor w/ 4 levels \"A121\",\"A122\",..: 1 1 1 2 4 4 2 3 1 3 ...\n",
      " $ V13: int  67 22 49 45 53 35 53 35 61 28 ...\n",
      " $ V14: Factor w/ 3 levels \"A141\",\"A142\",..: 3 3 3 3 3 3 3 3 3 3 ...\n",
      " $ V15: Factor w/ 3 levels \"A151\",\"A152\",..: 2 2 2 3 3 3 2 1 2 2 ...\n",
      " $ V16: int  2 1 1 1 2 1 1 1 1 2 ...\n",
      " $ V17: Factor w/ 4 levels \"A171\",\"A172\",..: 3 3 2 3 3 2 3 4 2 4 ...\n",
      " $ V18: int  1 1 2 2 2 2 1 1 1 1 ...\n",
      " $ V19: Factor w/ 2 levels \"A191\",\"A192\": 2 1 1 1 1 2 1 2 1 1 ...\n",
      " $ V20: Factor w/ 2 levels \"A201\",\"A202\": 1 1 1 1 1 1 1 1 1 1 ...\n",
      " $ V21: int  1 2 1 1 2 1 1 1 1 2 ...\n"
     ]
    }
   ],
   "source": [
    "str(german_credit)"
   ]
  },
  {
   "cell_type": "markdown",
   "id": "a1f0823b",
   "metadata": {},
   "source": [
    "**Transforming the raw data set**"
   ]
  },
  {
   "cell_type": "markdown",
   "id": "11023b71",
   "metadata": {},
   "source": [
    "When analyzing variables, it is necessary to take into account whether they are representative of a given problem. In the case of this data set, the variables: V11 (length of residence at the current address), V14 (other loans), V16 (type of apartment), V19 (telephone), etc. are not needed in the research. Even if there was a correlation with the explained variable, it would be an apparent correlation without justification. For this reason, a data set is created containing those variables whose presence is justified."
   ]
  },
  {
   "cell_type": "code",
   "execution_count": 5,
   "id": "041cd2e6",
   "metadata": {},
   "outputs": [],
   "source": [
    "german_credit <- subset(german_credit, select =  c(\"V1\", \"V4\", \"V5\", \"V7\", \"V9\", \"V13\", \"V17\", \"V21\"))"
   ]
  },
  {
   "cell_type": "markdown",
   "id": "5fe8605f",
   "metadata": {},
   "source": [
    "Looking at German credit data, you can see that some of the data is categorical and not suitable for certain machine learning models. For this reason, their type should be changed."
   ]
  },
  {
   "cell_type": "code",
   "execution_count": 6,
   "id": "6a148d4a",
   "metadata": {},
   "outputs": [],
   "source": [
    "german_credit <− sapply(german_credit, unclass)\n",
    "german_credit <- data.frame(german_credit[,])"
   ]
  },
  {
   "cell_type": "markdown",
   "id": "c6a10d43",
   "metadata": {},
   "source": [
    "Another problem with this data set is the undesirable values for the V21 creditworthiness class. This should be a binary variable. In this case, the value 1 is changed to 0 and the value 2 to 1. This means that the loan is granted and not granted, respectively."
   ]
  },
  {
   "cell_type": "code",
   "execution_count": 7,
   "id": "5fb4c074",
   "metadata": {},
   "outputs": [],
   "source": [
    "german_credit$V21 <- ifelse(german_credit$V21 == 1, 0, 1)"
   ]
  },
  {
   "cell_type": "markdown",
   "id": "267b8ea6",
   "metadata": {},
   "source": [
    "Variable preview."
   ]
  },
  {
   "cell_type": "code",
   "execution_count": 8,
   "id": "0fe6f926",
   "metadata": {},
   "outputs": [
    {
     "name": "stdout",
     "output_type": "stream",
     "text": [
      "'data.frame':\t1000 obs. of  8 variables:\n",
      " $ V1 : int  1 2 4 1 1 4 4 2 4 2 ...\n",
      " $ V4 : int  5 5 8 4 1 8 4 2 5 1 ...\n",
      " $ V5 : int  1169 5951 2096 7882 4870 9055 2835 6948 3059 5234 ...\n",
      " $ V7 : int  5 3 4 4 3 3 5 3 4 1 ...\n",
      " $ V9 : int  3 2 3 3 3 3 3 3 1 4 ...\n",
      " $ V13: int  67 22 49 45 53 35 53 35 61 28 ...\n",
      " $ V17: int  3 3 2 3 3 2 3 4 2 4 ...\n",
      " $ V21: num  0 1 0 0 1 0 0 0 0 1 ...\n"
     ]
    }
   ],
   "source": [
    "str(german_credit)"
   ]
  },
  {
   "cell_type": "markdown",
   "id": "2bf45d50",
   "metadata": {},
   "source": [
    "The visible data in the set varies in scale. For this reason, selected variables should be normalized. This will only be done in task 3, because it is worth keeping the data in its current form to draw rational conclusions from the descriptive analysis."
   ]
  },
  {
   "cell_type": "code",
   "execution_count": 9,
   "id": "5da45428",
   "metadata": {},
   "outputs": [
    {
     "data": {
      "text/html": [
       "<table>\n",
       "<thead><tr><th scope=col>V1</th><th scope=col>V4</th><th scope=col>V5</th><th scope=col>V7</th><th scope=col>V9</th><th scope=col>V13</th><th scope=col>V17</th><th scope=col>V21</th></tr></thead>\n",
       "<tbody>\n",
       "\t<tr><td>1   </td><td>5   </td><td>1169</td><td>5   </td><td>3   </td><td>67  </td><td>3   </td><td>0   </td></tr>\n",
       "\t<tr><td>2   </td><td>5   </td><td>5951</td><td>3   </td><td>2   </td><td>22  </td><td>3   </td><td>1   </td></tr>\n",
       "\t<tr><td>4   </td><td>8   </td><td>2096</td><td>4   </td><td>3   </td><td>49  </td><td>2   </td><td>0   </td></tr>\n",
       "</tbody>\n",
       "</table>\n"
      ],
      "text/latex": [
       "\\begin{tabular}{r|llllllll}\n",
       " V1 & V4 & V5 & V7 & V9 & V13 & V17 & V21\\\\\n",
       "\\hline\n",
       "\t 1    & 5    & 1169 & 5    & 3    & 67   & 3    & 0   \\\\\n",
       "\t 2    & 5    & 5951 & 3    & 2    & 22   & 3    & 1   \\\\\n",
       "\t 4    & 8    & 2096 & 4    & 3    & 49   & 2    & 0   \\\\\n",
       "\\end{tabular}\n"
      ],
      "text/markdown": [
       "\n",
       "| V1 | V4 | V5 | V7 | V9 | V13 | V17 | V21 |\n",
       "|---|---|---|---|---|---|---|---|\n",
       "| 1    | 5    | 1169 | 5    | 3    | 67   | 3    | 0    |\n",
       "| 2    | 5    | 5951 | 3    | 2    | 22   | 3    | 1    |\n",
       "| 4    | 8    | 2096 | 4    | 3    | 49   | 2    | 0    |\n",
       "\n"
      ],
      "text/plain": [
       "  V1 V4 V5   V7 V9 V13 V17 V21\n",
       "1 1  5  1169 5  3  67  3   0  \n",
       "2 2  5  5951 3  2  22  3   1  \n",
       "3 4  8  2096 4  3  49  2   0  "
      ]
     },
     "metadata": {},
     "output_type": "display_data"
    }
   ],
   "source": [
    "head(german_credit, n = 3)"
   ]
  },
  {
   "cell_type": "code",
   "execution_count": 10,
   "id": "53cf3e16",
   "metadata": {},
   "outputs": [
    {
     "data": {
      "text/html": [
       "0"
      ],
      "text/latex": [
       "0"
      ],
      "text/markdown": [
       "0"
      ],
      "text/plain": [
       "[1] 0"
      ]
     },
     "metadata": {},
     "output_type": "display_data"
    }
   ],
   "source": [
    "sum(is.na(german_credit))"
   ]
  },
  {
   "cell_type": "markdown",
   "id": "0e710674",
   "metadata": {},
   "source": [
    "There is no missing data in the set."
   ]
  },
  {
   "cell_type": "markdown",
   "id": "bdaf0a58",
   "metadata": {},
   "source": [
    "Detection and removal of outliers. Due to the presence of already transformed categorical variables, scaled and weighted variables are taken into account."
   ]
  },
  {
   "cell_type": "code",
   "execution_count": 11,
   "id": "a74b4c5f",
   "metadata": {},
   "outputs": [
    {
     "data": {
      "image/png": "[encoded data removed]",
      "text/plain": [
       "plot without title"
      ]
     },
     "metadata": {},
     "output_type": "display_data"
    }
   ],
   "source": [
    "par(mfrow=c(3, 2))\n",
    "boxplot(V1 ~ V21, data = german_credit, \n",
    "    col=c(\"#0474BA\", \"#13ae4b\") ,\n",
    "    ylab=\"V1\" , xlab=\"credit\")\n",
    "\n",
    "boxplot(V4 ~ V21, data = german_credit, \n",
    "    col=c(\"#0474BA\", \"#13ae4b\") ,\n",
    "    ylab=\"V4\" , xlab=\"credit\")\n",
    "\n",
    "boxplot(V5 ~ V21, data = german_credit, \n",
    "    col=c(\"#0474BA\", \"#13ae4b\") ,\n",
    "    ylab=\"V5\" , xlab=\"credit\")\n",
    "\n",
    "boxplot(V7 ~ V21, data = german_credit, \n",
    "    col=c(\"#0474BA\", \"#13ae4b\") ,\n",
    "    ylab=\"V7\" , xlab=\"credit\")\n",
    "\n",
    "boxplot(V9 ~ V21, data = german_credit, \n",
    "    col=c(\"#0474BA\", \"#13ae4b\") ,\n",
    "    ylab=\"V9\" , xlab=\"credit\")\n",
    "\n",
    "boxplot(V13 ~ V21, data = german_credit, \n",
    "    col=c(\"#0474BA\", \"#13ae4b\") ,\n",
    "    ylab=\"V13\" , xlab=\"credit\")"
   ]
  },
  {
   "cell_type": "markdown",
   "id": "fb9f1fdb",
   "metadata": {},
   "source": [
    "Outliers come in variables: V1, V4, V5 and V13."
   ]
  },
  {
   "cell_type": "markdown",
   "id": "69eef7f4",
   "metadata": {},
   "source": [
    "Dividing a set by a binary variable."
   ]
  },
  {
   "cell_type": "code",
   "execution_count": 12,
   "id": "b007e472",
   "metadata": {},
   "outputs": [],
   "source": [
    "german_credit_0 <- subset(german_credit, V21 == 0)\n",
    "german_credit_1 <- subset(german_credit, V21 == 1)"
   ]
  },
  {
   "cell_type": "markdown",
   "id": "03cd8ddd",
   "metadata": {},
   "source": [
    "Removing outliers in the **V1** variable."
   ]
  },
  {
   "cell_type": "code",
   "execution_count": 13,
   "id": "9f32ac9f",
   "metadata": {},
   "outputs": [
    {
     "data": {
      "text/plain": [
       "   Min. 1st Qu.  Median    Mean 3rd Qu.    Max. \n",
       "  1.000   1.000   2.000   1.903   2.000   4.000 "
      ]
     },
     "metadata": {},
     "output_type": "display_data"
    }
   ],
   "source": [
    "summary(german_credit_1$V1)"
   ]
  },
  {
   "cell_type": "code",
   "execution_count": 14,
   "id": "c5db1a41",
   "metadata": {},
   "outputs": [],
   "source": [
    "interquantile_range = 2.000 - 1.000\n",
    "min = 1.000 - 1.5*interquantile_range\n",
    "max = 2.000 + 1.5*interquantile_range"
   ]
  },
  {
   "cell_type": "code",
   "execution_count": 15,
   "id": "86dfc245",
   "metadata": {},
   "outputs": [],
   "source": [
    "german_credit <- subset(german_credit, V1 %gele% c(min, max))\n",
    "german_credit_1 <- subset(german_credit_1, V1 %gele% c(min, max))"
   ]
  },
  {
   "cell_type": "markdown",
   "id": "7b6cf987",
   "metadata": {},
   "source": [
    "Removing outliers in the **V4** variable."
   ]
  },
  {
   "cell_type": "code",
   "execution_count": 16,
   "id": "cf95ca66",
   "metadata": {},
   "outputs": [
    {
     "data": {
      "text/plain": [
       "   Min. 1st Qu.  Median    Mean 3rd Qu.    Max. \n",
       "  1.000   2.000   4.000   4.274   5.000  10.000 "
      ]
     },
     "metadata": {},
     "output_type": "display_data"
    }
   ],
   "source": [
    "summary(german_credit_0$V4)"
   ]
  },
  {
   "cell_type": "code",
   "execution_count": 17,
   "id": "7454801c",
   "metadata": {},
   "outputs": [],
   "source": [
    "interquantile_range = 5.000 - 2.000\n",
    "min = 2.000 - 1.5*interquantile_range\n",
    "max = 5.000 + 1.5*interquantile_range"
   ]
  },
  {
   "cell_type": "code",
   "execution_count": 18,
   "id": "544fb6bf",
   "metadata": {},
   "outputs": [],
   "source": [
    "german_credit <- subset(german_credit, V4 %gele% c(min, max))\n",
    "german_credit_0 <- subset(german_credit_0, V4 %gele% c(min, max))"
   ]
  },
  {
   "cell_type": "markdown",
   "id": "b0826b7b",
   "metadata": {},
   "source": [
    "Removing outliers in the **V5** variable.\n",
    "\n",
    "Setting the boundary from which points are removed as outliers for two subsets.\n",
    "\n",
    "Detection of quartile values for a variable from a subset of solvent companies."
   ]
  },
  {
   "cell_type": "code",
   "execution_count": 19,
   "id": "7a827571",
   "metadata": {},
   "outputs": [
    {
     "data": {
      "text/plain": [
       "   Min. 1st Qu.  Median    Mean 3rd Qu.    Max. \n",
       "    250    1352    2214    2948    3612   15857 "
      ]
     },
     "metadata": {},
     "output_type": "display_data"
    }
   ],
   "source": [
    "summary(german_credit_0$V5)"
   ]
  },
  {
   "cell_type": "code",
   "execution_count": 20,
   "id": "b61dda5b",
   "metadata": {},
   "outputs": [],
   "source": [
    "interquantile_range = 3612 - 1352\n",
    "min = 1352 - 1.5*interquantile_range\n",
    "max = 3612 + 1.5*interquantile_range"
   ]
  },
  {
   "cell_type": "code",
   "execution_count": 21,
   "id": "01bcebd8",
   "metadata": {},
   "outputs": [],
   "source": [
    "german_credit <- subset(german_credit, V5 %gele% c(min, max))\n",
    "german_credit_0 <- subset(german_credit_0, V5 %gele% c(min, max))"
   ]
  },
  {
   "cell_type": "code",
   "execution_count": 22,
   "id": "83d76dfd",
   "metadata": {},
   "outputs": [
    {
     "data": {
      "text/plain": [
       "   Min. 1st Qu.  Median    Mean 3rd Qu.    Max. \n",
       "    433    1288    2468    3875    5055   18424 "
      ]
     },
     "metadata": {},
     "output_type": "display_data"
    }
   ],
   "source": [
    "summary(german_credit_1$V5)"
   ]
  },
  {
   "cell_type": "code",
   "execution_count": 23,
   "id": "67fcd606",
   "metadata": {},
   "outputs": [],
   "source": [
    "interquantile_range = 5055 - 1288\n",
    "min = 1288 - 1.5*interquantile_range\n",
    "max = 5055 + 1.5*interquantile_range"
   ]
  },
  {
   "cell_type": "code",
   "execution_count": 24,
   "id": "080cd9c2",
   "metadata": {},
   "outputs": [],
   "source": [
    "german_credit <- subset(german_credit, V5 %gele% c(min, max))\n",
    "german_credit_1 <- subset(german_credit_1, V5 %gele% c(min, max))"
   ]
  },
  {
   "cell_type": "markdown",
   "id": "807a4db4",
   "metadata": {},
   "source": [
    "Removing outliers in the **V13** variable.\n",
    "\n",
    "Setting the boundary from which points are removed as outliers for two subsets.\n",
    "\n",
    "Detection of quartile values for a variable from a subset of solvent companies."
   ]
  },
  {
   "cell_type": "code",
   "execution_count": 25,
   "id": "e157076e",
   "metadata": {},
   "outputs": [
    {
     "data": {
      "text/plain": [
       "   Min. 1st Qu.  Median    Mean 3rd Qu.    Max. \n",
       "  19.00   27.00   34.00   36.39   43.00   75.00 "
      ]
     },
     "metadata": {},
     "output_type": "display_data"
    }
   ],
   "source": [
    "summary(german_credit_0$V13)"
   ]
  },
  {
   "cell_type": "code",
   "execution_count": 26,
   "id": "be803442",
   "metadata": {},
   "outputs": [],
   "source": [
    "interquantile_range = 43.00 - 27.00\n",
    "min = 27.00 - 1.5*interquantile_range\n",
    "max = 43.00 + 1.5*interquantile_range"
   ]
  },
  {
   "cell_type": "code",
   "execution_count": 27,
   "id": "3c057429",
   "metadata": {},
   "outputs": [],
   "source": [
    "german_credit <- subset(german_credit, V13 %gele% c(min, max))\n",
    "german_credit_0 <- subset(german_credit_0, V13 %gele% c(min, max))"
   ]
  },
  {
   "cell_type": "code",
   "execution_count": 28,
   "id": "729fafb4",
   "metadata": {},
   "outputs": [
    {
     "data": {
      "text/plain": [
       "   Min. 1st Qu.  Median    Mean 3rd Qu.    Max. \n",
       "  20.00   25.00   31.00   33.76   40.00   74.00 "
      ]
     },
     "metadata": {},
     "output_type": "display_data"
    }
   ],
   "source": [
    "summary(german_credit_1$V13)"
   ]
  },
  {
   "cell_type": "code",
   "execution_count": 29,
   "id": "740ab387",
   "metadata": {},
   "outputs": [],
   "source": [
    "interquantile_range = 40.00 - 25.00\n",
    "min = 25.00 - 1.5*interquantile_range\n",
    "max = 40.00 + 1.5*interquantile_range"
   ]
  },
  {
   "cell_type": "code",
   "execution_count": 30,
   "id": "de948388",
   "metadata": {},
   "outputs": [],
   "source": [
    "german_credit <- subset(german_credit, V13 %gele% c(min, max))\n",
    "german_credit_1 <- subset(german_credit_1, V13 %gele% c(min, max))"
   ]
  },
  {
   "cell_type": "markdown",
   "id": "da79a6b0",
   "metadata": {},
   "source": [
    "**Balancing dataset**"
   ]
  },
  {
   "cell_type": "markdown",
   "id": "57b336ae",
   "metadata": {},
   "source": [
    "Finding information on the number of positive and negative decisions regarding granting loans."
   ]
  },
  {
   "cell_type": "code",
   "execution_count": 31,
   "id": "7d9c39de",
   "metadata": {},
   "outputs": [
    {
     "data": {
      "text/html": [
       "<ol class=list-inline>\n",
       "\t<li>583</li>\n",
       "\t<li>8</li>\n",
       "</ol>\n"
      ],
      "text/latex": [
       "\\begin{enumerate*}\n",
       "\\item 583\n",
       "\\item 8\n",
       "\\end{enumerate*}\n"
      ],
      "text/markdown": [
       "1. 583\n",
       "2. 8\n",
       "\n",
       "\n"
      ],
      "text/plain": [
       "[1] 583   8"
      ]
     },
     "metadata": {},
     "output_type": "display_data"
    }
   ],
   "source": [
    "dim(german_credit_0)"
   ]
  },
  {
   "cell_type": "code",
   "execution_count": 32,
   "id": "ef544b75",
   "metadata": {},
   "outputs": [
    {
     "data": {
      "text/html": [
       "<ol class=list-inline>\n",
       "\t<li>230</li>\n",
       "\t<li>8</li>\n",
       "</ol>\n"
      ],
      "text/latex": [
       "\\begin{enumerate*}\n",
       "\\item 230\n",
       "\\item 8\n",
       "\\end{enumerate*}\n"
      ],
      "text/markdown": [
       "1. 230\n",
       "2. 8\n",
       "\n",
       "\n"
      ],
      "text/plain": [
       "[1] 230   8"
      ]
     },
     "metadata": {},
     "output_type": "display_data"
    }
   ],
   "source": [
    "dim(german_credit_1)"
   ]
  },
  {
   "cell_type": "markdown",
   "id": "246107e5",
   "metadata": {},
   "source": [
    "The resulting values indicate that the data set is unbalanced.\n",
    "\n",
    "Creating a data frame of randomly selected insolvent companies."
   ]
  },
  {
   "cell_type": "code",
   "execution_count": 33,
   "id": "bd9d5682",
   "metadata": {},
   "outputs": [],
   "source": [
    "new_german_credit_0 <- german_credit_0[sample(1:nrow(german_credit_0), 230), ]"
   ]
  },
  {
   "cell_type": "markdown",
   "id": "9d0b6aed",
   "metadata": {},
   "source": [
    "Combining data frames."
   ]
  },
  {
   "cell_type": "code",
   "execution_count": 34,
   "id": "29c7b5c3",
   "metadata": {},
   "outputs": [],
   "source": [
    "german_credit <- rbind(new_german_credit_0, german_credit_1)"
   ]
  },
  {
   "cell_type": "markdown",
   "id": "f2c5f04f",
   "metadata": {},
   "source": [
    "Conducting reindexing."
   ]
  },
  {
   "cell_type": "code",
   "execution_count": 35,
   "id": "c59db0f9",
   "metadata": {},
   "outputs": [],
   "source": [
    "rownames(german_credit) <- 1:nrow(german_credit)"
   ]
  },
  {
   "cell_type": "markdown",
   "id": "b212fe26",
   "metadata": {},
   "source": [
    "**Descriptive data analysis**"
   ]
  },
  {
   "cell_type": "markdown",
   "id": "ae2d1881",
   "metadata": {},
   "source": [
    "Calculating basic statistics."
   ]
  },
  {
   "cell_type": "code",
   "execution_count": 36,
   "id": "f9448461",
   "metadata": {},
   "outputs": [
    {
     "data": {
      "text/plain": [
       "       V1             V4               V5              V7       \n",
       " Min.   :1.00   Min.   : 1.000   Min.   :  338   Min.   :1.000  \n",
       " 1st Qu.:1.00   1st Qu.: 1.000   1st Qu.: 1314   1st Qu.:3.000  \n",
       " Median :2.00   Median : 4.000   Median : 2199   Median :3.000  \n",
       " Mean   :2.23   Mean   : 3.957   Mean   : 2746   Mean   :3.359  \n",
       " 3rd Qu.:4.00   3rd Qu.: 5.000   3rd Qu.: 3511   3rd Qu.:5.000  \n",
       " Max.   :4.00   Max.   :10.000   Max.   :10297   Max.   :5.000  \n",
       "       V9             V13             V17             V21     \n",
       " Min.   :1.000   Min.   :19.00   Min.   :1.000   Min.   :0.0  \n",
       " 1st Qu.:2.000   1st Qu.:26.00   1st Qu.:3.000   1st Qu.:0.0  \n",
       " Median :3.000   Median :32.00   Median :3.000   Median :0.5  \n",
       " Mean   :2.643   Mean   :34.86   Mean   :2.863   Mean   :0.5  \n",
       " 3rd Qu.:3.000   3rd Qu.:42.00   3rd Qu.:3.000   3rd Qu.:1.0  \n",
       " Max.   :4.000   Max.   :67.00   Max.   :4.000   Max.   :1.0  "
      ]
     },
     "metadata": {},
     "output_type": "display_data"
    }
   ],
   "source": [
    "summary(german_credit)"
   ]
  },
  {
   "cell_type": "markdown",
   "id": "c8a216b2",
   "metadata": {},
   "source": [
    "Distinct statistics of non-categorical variables show that:\n",
    "* the largest credit is 10297 currencies and the smallest is 250. The average credit is 2697 currencies.\n",
    "* the average age of a person applying for a loan is over 34 years. The youngest person to apply for a loan was 19 years old and the oldest was 66 years old"
   ]
  },
  {
   "cell_type": "code",
   "execution_count": 37,
   "id": "8dec07fc",
   "metadata": {},
   "outputs": [
    {
     "data": {
      "image/png": "[encoded data removed]",
      "text/plain": [
       "Plot with title \"Histogram of german_credit$V21\""
      ]
     },
     "metadata": {},
     "output_type": "display_data"
    }
   ],
   "source": [
    "par(mfrow=c(3, 3))\n",
    "hist(german_credit$V1, \n",
    "    col= \"#0474BA\",\n",
    "    ylab=\"Count\" , xlab=\"V1\")\n",
    "\n",
    "hist(german_credit$V4, \n",
    "    col= \"#0474BA\",\n",
    "    ylab=\"Count\" , xlab=\"V4\")\n",
    "\n",
    "hist(german_credit$V5, \n",
    "    col= \"#0474BA\",\n",
    "    ylab=\"Count\" , xlab=\"V5\")\n",
    "\n",
    "hist(german_credit$V7, \n",
    "    col= \"#0474BA\",\n",
    "    ylab=\"Count\" , xlab=\"V7\")\n",
    "\n",
    "hist(german_credit$V9, \n",
    "    col= \"#0474BA\",\n",
    "    ylab=\"Count\" , xlab=\"V9\")\n",
    "\n",
    "hist(german_credit$V13, \n",
    "    col= \"#0474BA\" ,\n",
    "    ylab=\"Count\" , xlab=\"V13\")\n",
    "\n",
    "hist(german_credit$V17, \n",
    "    col= \"#0474BA\",\n",
    "    ylab=\"Count\" , xlab=\"V17\")\n",
    "\n",
    "hist(german_credit$V21, \n",
    "    col= \"#0474BA\",\n",
    "    ylab=\"Count\" , xlab=\"V21\")"
   ]
  },
  {
   "cell_type": "markdown",
   "id": "75672ef8",
   "metadata": {},
   "source": [
    "The histograms presented indicate:\n",
    "* the data set is balanced\n",
    "* there are many accounts with a negative balance, the least of which are those with significant funds. This may mean that people without financial problems rarely take out loans\n",
    "* most people indicated that they would like to buy a new car, radio and television with the loan. The remaining goals were much less popular\n",
    "* in the V5 loan amounts, it can be observed that with the loan amount, the number of people deciding to take such a step or the number of people to whom the bank would agree to transfer such an amount decreases\n",
    "* in variable V7, the fewest loans are granted to unemployed people, and the most to people with professional experience of 1-4 years.\n",
    "* the fewest loans are granted to single women and divorcees, and the most to married men or widowers\n",
    "* most loans are granted to people aged 20-30. The older a person is, the more difficult it is to get a loan\n",
    "* most loans in variable V17 are granted to qualified employees. The management has few loans because they don't need them"
   ]
  },
  {
   "cell_type": "code",
   "execution_count": 38,
   "id": "e06e9ee8",
   "metadata": {},
   "outputs": [
    {
     "data": {
      "image/png": "[encoded data removed]",
      "text/plain": [
       "plot without title"
      ]
     },
     "metadata": {},
     "output_type": "display_data"
    }
   ],
   "source": [
    "ggcorr(german_credit,\n",
    "     nbreaks = 6,\n",
    "     label = TRUE,\n",
    "     label_size = 2,\n",
    "     label_round = 2,\n",
    "     color = \"grey50\")"
   ]
  },
  {
   "cell_type": "markdown",
   "id": "f3dbaf9f",
   "metadata": {},
   "source": [
    "The presented correlation matrix indicates that the variable V1 is the most strongly correlated variable with the creditworthiness variable V21. The remaining variables are not or only weakly correlated with creditworthiness. Variable V13 will be omitted from the model because it is correlated with variable V7."
   ]
  },
  {
   "cell_type": "code",
   "execution_count": 39,
   "id": "96700684",
   "metadata": {},
   "outputs": [],
   "source": [
    "german_credit <- german_credit[-6]"
   ]
  },
  {
   "cell_type": "markdown",
   "id": "0201bd03",
   "metadata": {},
   "source": [
    "## Exercise 3"
   ]
  },
  {
   "cell_type": "markdown",
   "id": "44f89407",
   "metadata": {},
   "source": [
    "Normalization of explanatory variables."
   ]
  },
  {
   "cell_type": "code",
   "execution_count": 40,
   "id": "39ca7ded",
   "metadata": {},
   "outputs": [],
   "source": [
    "normalization <- function(x){\n",
    "return ((x - min(x)) / (max(x) - min(x)))}"
   ]
  },
  {
   "cell_type": "code",
   "execution_count": 41,
   "id": "4966c9fe",
   "metadata": {},
   "outputs": [],
   "source": [
    "for(i in 1:6){\n",
    "    german_credit[i] = normalization(german_credit[i])\n",
    "}"
   ]
  },
  {
   "cell_type": "code",
   "execution_count": 42,
   "id": "91d8c729",
   "metadata": {},
   "outputs": [
    {
     "data": {
      "text/html": [
       "<table>\n",
       "<thead><tr><th scope=col>V1</th><th scope=col>V4</th><th scope=col>V5</th><th scope=col>V7</th><th scope=col>V9</th><th scope=col>V17</th><th scope=col>V21</th></tr></thead>\n",
       "<tbody>\n",
       "\t<tr><td>0        </td><td>0.4444444</td><td>0.2054423</td><td>1.0      </td><td>0.6666667</td><td>0.3333333</td><td>0        </td></tr>\n",
       "\t<tr><td>1        </td><td>0.0000000</td><td>0.1803394</td><td>0.5      </td><td>0.6666667</td><td>0.6666667</td><td>0        </td></tr>\n",
       "\t<tr><td>0        </td><td>0.1111111</td><td>0.6106035</td><td>1.0      </td><td>0.3333333</td><td>1.0000000</td><td>0        </td></tr>\n",
       "</tbody>\n",
       "</table>\n"
      ],
      "text/latex": [
       "\\begin{tabular}{r|lllllll}\n",
       " V1 & V4 & V5 & V7 & V9 & V17 & V21\\\\\n",
       "\\hline\n",
       "\t 0         & 0.4444444 & 0.2054423 & 1.0       & 0.6666667 & 0.3333333 & 0        \\\\\n",
       "\t 1         & 0.0000000 & 0.1803394 & 0.5       & 0.6666667 & 0.6666667 & 0        \\\\\n",
       "\t 0         & 0.1111111 & 0.6106035 & 1.0       & 0.3333333 & 1.0000000 & 0        \\\\\n",
       "\\end{tabular}\n"
      ],
      "text/markdown": [
       "\n",
       "| V1 | V4 | V5 | V7 | V9 | V17 | V21 |\n",
       "|---|---|---|---|---|---|---|\n",
       "| 0         | 0.4444444 | 0.2054423 | 1.0       | 0.6666667 | 0.3333333 | 0         |\n",
       "| 1         | 0.0000000 | 0.1803394 | 0.5       | 0.6666667 | 0.6666667 | 0         |\n",
       "| 0         | 0.1111111 | 0.6106035 | 1.0       | 0.3333333 | 1.0000000 | 0         |\n",
       "\n"
      ],
      "text/plain": [
       "  V1 V4        V5        V7  V9        V17       V21\n",
       "1 0  0.4444444 0.2054423 1.0 0.6666667 0.3333333 0  \n",
       "2 1  0.0000000 0.1803394 0.5 0.6666667 0.6666667 0  \n",
       "3 0  0.1111111 0.6106035 1.0 0.3333333 1.0000000 0  "
      ]
     },
     "metadata": {},
     "output_type": "display_data"
    }
   ],
   "source": [
    "head(german_credit, n = 3)"
   ]
  },
  {
   "cell_type": "markdown",
   "id": "ce8ecd7f",
   "metadata": {},
   "source": [
    "**Division of the set into training and testing**\n",
    "\n",
    "The data set is divided into a 30% test set and a 70% training set."
   ]
  },
  {
   "cell_type": "code",
   "execution_count": 43,
   "id": "6a90c96e",
   "metadata": {},
   "outputs": [],
   "source": [
    "set.seed(123)\n",
    "ind <- sample(2, nrow(german_credit), replace = TRUE, prob = c(0.7, 0.3))\n",
    "training_set <- german_credit[ind == 1,]\n",
    "testing_set <- german_credit[ind == 2,]"
   ]
  },
  {
   "cell_type": "markdown",
   "id": "2a967503",
   "metadata": {},
   "source": [
    "## Exercise 4"
   ]
  },
  {
   "cell_type": "markdown",
   "id": "58fe6be3",
   "metadata": {},
   "source": [
    "### 4.1 Naive Bayes "
   ]
  },
  {
   "cell_type": "markdown",
   "id": "7c7bfcc8",
   "metadata": {},
   "source": [
    "Fitting a Naive Bayes model to the training dataset."
   ]
  },
  {
   "cell_type": "code",
   "execution_count": 44,
   "id": "801584c0",
   "metadata": {},
   "outputs": [
    {
     "data": {
      "text/plain": [
       "\n",
       "Naive Bayes Classifier for Discrete Predictors\n",
       "\n",
       "Call:\n",
       "naiveBayes.default(x = X, y = Y, laplace = laplace, family = ..1)\n",
       "\n",
       "A-priori probabilities:\n",
       "Y\n",
       "        0         1 \n",
       "0.5075988 0.4924012 \n",
       "\n",
       "Conditional probabilities:\n",
       "   V1\n",
       "Y        [,1]      [,2]\n",
       "  0 0.6187625 0.4176101\n",
       "  1 0.1419753 0.1887285\n",
       "\n",
       "   V4\n",
       "Y        [,1]      [,2]\n",
       "  0 0.3193613 0.2232838\n",
       "  1 0.3367627 0.3121699\n",
       "\n",
       "   V5\n",
       "Y        [,1]      [,2]\n",
       "  0 0.2028136 0.1382008\n",
       "  1 0.2682009 0.2282367\n",
       "\n",
       "   V7\n",
       "Y        [,1]      [,2]\n",
       "  0 0.6452096 0.3035053\n",
       "  1 0.5586420 0.3097073\n",
       "\n",
       "   V9\n",
       "Y        [,1]      [,2]\n",
       "  0 0.5648703 0.2155674\n",
       "  1 0.5390947 0.2468177\n",
       "\n",
       "   V17\n",
       "Y        [,1]      [,2]\n",
       "  0 0.6167665 0.2244396\n",
       "  1 0.6152263 0.2120295\n"
      ]
     },
     "metadata": {},
     "output_type": "display_data"
    }
   ],
   "source": [
    "set.seed(120)  # Setting Seed\n",
    "model <- naiveBayes(V21 ~ ., data = training_set, family = binomial)\n",
    "credit_pred <- predict(model, newdata = testing_set)\n",
    "model"
   ]
  },
  {
   "cell_type": "markdown",
   "id": "d70f8a53",
   "metadata": {},
   "source": [
    "**Model quality check.**"
   ]
  },
  {
   "cell_type": "code",
   "execution_count": 45,
   "id": "c321ab9a",
   "metadata": {},
   "outputs": [
    {
     "data": {
      "text/plain": [
       "   credit_pred\n",
       "     0  1\n",
       "  0 48 15\n",
       "  1 11 57"
      ]
     },
     "metadata": {},
     "output_type": "display_data"
    }
   ],
   "source": [
    "confusion_matrix <- table(testing_set$V21, credit_pred)\n",
    "confusion_matrix"
   ]
  },
  {
   "cell_type": "markdown",
   "id": "42ca7ffc",
   "metadata": {},
   "source": [
    "* 37 decisions to grant a loan were correctly classified as positive\n",
    "* 26 decisions to grant a loan were incorrectly classified as positive\n",
    "* 13 decisions to grant a loan were incorrectly classified as negative\n",
    "* 55 decisions to grant a loan were correctly classified as negative"
   ]
  },
  {
   "cell_type": "code",
   "execution_count": 46,
   "id": "bec6265a",
   "metadata": {},
   "outputs": [
    {
     "data": {
      "text/plain": [
       "Confusion Matrix and Statistics\n",
       "\n",
       "   credit_pred\n",
       "     0  1\n",
       "  0 48 15\n",
       "  1 11 57\n",
       "                                          \n",
       "               Accuracy : 0.8015          \n",
       "                 95% CI : (0.7229, 0.8661)\n",
       "    No Information Rate : 0.5496          \n",
       "    P-Value [Acc > NIR] : 1.377e-09       \n",
       "                                          \n",
       "                  Kappa : 0.6015          \n",
       "                                          \n",
       " Mcnemar's Test P-Value : 0.5563          \n",
       "                                          \n",
       "            Sensitivity : 0.8136          \n",
       "            Specificity : 0.7917          \n",
       "         Pos Pred Value : 0.7619          \n",
       "         Neg Pred Value : 0.8382          \n",
       "             Prevalence : 0.4504          \n",
       "         Detection Rate : 0.3664          \n",
       "   Detection Prevalence : 0.4809          \n",
       "      Balanced Accuracy : 0.8026          \n",
       "                                          \n",
       "       'Positive' Class : 0               \n",
       "                                          "
      ]
     },
     "metadata": {},
     "output_type": "display_data"
    }
   ],
   "source": [
    "confusionMatrix(confusion_matrix)"
   ]
  },
  {
   "cell_type": "code",
   "execution_count": 47,
   "id": "dbe9bfc0",
   "metadata": {},
   "outputs": [
    {
     "data": {
      "text/html": [
       "<dl class=dl-horizontal>\n",
       "\t<dt>sens</dt>\n",
       "\t\t<dd>0.838235294117647</dd>\n",
       "\t<dt>spec</dt>\n",
       "\t\t<dd>0.761904761904762</dd>\n",
       "\t<dt>acc</dt>\n",
       "\t\t<dd>0.801526717557252</dd>\n",
       "</dl>\n"
      ],
      "text/latex": [
       "\\begin{description*}\n",
       "\\item[sens] 0.838235294117647\n",
       "\\item[spec] 0.761904761904762\n",
       "\\item[acc] 0.801526717557252\n",
       "\\end{description*}\n"
      ],
      "text/markdown": [
       "sens\n",
       ":   0.838235294117647spec\n",
       ":   0.761904761904762acc\n",
       ":   0.801526717557252\n",
       "\n"
      ],
      "text/plain": [
       "     sens      spec       acc \n",
       "0.8382353 0.7619048 0.8015267 "
      ]
     },
     "metadata": {},
     "output_type": "display_data"
    }
   ],
   "source": [
    "credit_pred1 <- as.vector(credit_pred)\n",
    "testing_set1 <- as.vector(testing_set)\n",
    "perf_indexes = function(cm){\n",
    " sensitivity = cm[2,2] / (cm[1,2] + cm[2,2])\n",
    " specificity = cm[1,1] / (cm[1,1] + cm[2,1])\n",
    " accuracy = sum(diag(cm)) / sum(cm)\n",
    " return(c(sens=sensitivity,spec=specificity,acc=accuracy))\n",
    "}\n",
    "perf_indexes(table(credit_pred1, testing_set1$V21))"
   ]
  },
  {
   "cell_type": "markdown",
   "id": "f2585bbe",
   "metadata": {},
   "source": [
    "**Conclusions**\n",
    "\n",
    "The prediction accuracy of the model is approximately 83.82%.\n",
    "\n",
    "Specificity indicates the model's ability to predict true negatives in each available category at 76.19%.\n",
    "\n",
    "Sensitivity indicates the model's ability to predict true positives in each available category at 80.15%."
   ]
  },
  {
   "cell_type": "markdown",
   "id": "27c44c08",
   "metadata": {},
   "source": [
    "### 4.2 Logistic regression"
   ]
  },
  {
   "cell_type": "markdown",
   "id": "8cfcd9ad",
   "metadata": {},
   "source": [
    "Building model"
   ]
  },
  {
   "cell_type": "code",
   "execution_count": 48,
   "id": "c3ffb174",
   "metadata": {},
   "outputs": [
    {
     "data": {
      "text/plain": [
       "\n",
       "Call:\n",
       "glm(formula = V21 ~ ., family = binomial, data = training_set)\n",
       "\n",
       "Deviance Residuals: \n",
       "    Min       1Q   Median       3Q      Max  \n",
       "-2.0132  -0.4910  -0.2649   0.7733   2.0719  \n",
       "\n",
       "Coefficients:\n",
       "            Estimate Std. Error z value Pr(>|z|)    \n",
       "(Intercept)   1.2967     0.5839   2.221   0.0264 *  \n",
       "V1           -4.0361     0.4727  -8.539   <2e-16 ***\n",
       "V4            0.3907     0.4987   0.783   0.4334    \n",
       "V5            1.6358     0.7863   2.080   0.0375 *  \n",
       "V7           -0.7855     0.4729  -1.661   0.0967 .  \n",
       "V9           -0.2913     0.6103  -0.477   0.6331    \n",
       "V17           0.2306     0.6853   0.337   0.7365    \n",
       "---\n",
       "Signif. codes:  0 '***' 0.001 '**' 0.01 '*' 0.05 '.' 0.1 ' ' 1\n",
       "\n",
       "(Dispersion parameter for binomial family taken to be 1)\n",
       "\n",
       "    Null deviance: 456.01  on 328  degrees of freedom\n",
       "Residual deviance: 314.07  on 322  degrees of freedom\n",
       "AIC: 328.07\n",
       "\n",
       "Number of Fisher Scoring iterations: 5\n"
      ]
     },
     "metadata": {},
     "output_type": "display_data"
    }
   ],
   "source": [
    "model <- glm(V21 ~ ., data = training_set, family = binomial)\n",
    "summary(model)"
   ]
  },
  {
   "cell_type": "code",
   "execution_count": 49,
   "id": "89593e17",
   "metadata": {},
   "outputs": [],
   "source": [
    "credit_pred <- predict(model, newdata = testing_set)"
   ]
  },
  {
   "cell_type": "code",
   "execution_count": 50,
   "id": "f61dd9e1",
   "metadata": {},
   "outputs": [
    {
     "data": {
      "text/html": [
       "<dl class=dl-horizontal>\n",
       "\t<dt>sens</dt>\n",
       "\t\t<dd>NaN</dd>\n",
       "\t<dt>spec</dt>\n",
       "\t\t<dd>0.5</dd>\n",
       "\t<dt>acc</dt>\n",
       "\t\t<dd>0.00763358778625954</dd>\n",
       "</dl>\n"
      ],
      "text/latex": [
       "\\begin{description*}\n",
       "\\item[sens] NaN\n",
       "\\item[spec] 0.5\n",
       "\\item[acc] 0.00763358778625954\n",
       "\\end{description*}\n"
      ],
      "text/markdown": [
       "sens\n",
       ":   NaNspec\n",
       ":   0.5acc\n",
       ":   0.00763358778625954\n",
       "\n"
      ],
      "text/plain": [
       "       sens        spec         acc \n",
       "        NaN 0.500000000 0.007633588 "
      ]
     },
     "metadata": {},
     "output_type": "display_data"
    }
   ],
   "source": [
    "perf_indexes(table(credit_pred, testing_set$V21))"
   ]
  },
  {
   "cell_type": "markdown",
   "id": "f7fce0d4",
   "metadata": {},
   "source": [
    "**Conclusions**\n",
    "\n",
    "The model's prediction accuracy is approximately NA.\n",
    "\n",
    "Specificity indicates the model's ability to predict true negatives in each available category by 50%.\n",
    "\n",
    "Sensitivity indicates the model's ability to predict true positives within 0.76% of each available category."
   ]
  },
  {
   "cell_type": "markdown",
   "id": "22742278",
   "metadata": {},
   "source": [
    "### 4.3 LDA"
   ]
  },
  {
   "cell_type": "markdown",
   "id": "9390652b",
   "metadata": {},
   "source": [
    "Creating an LDA model."
   ]
  },
  {
   "cell_type": "code",
   "execution_count": 51,
   "id": "65d22d4d",
   "metadata": {},
   "outputs": [
    {
     "data": {
      "text/plain": [
       "Call:\n",
       "lda(V21 ~ ., data = training_set, family = binomial)\n",
       "\n",
       "Prior probabilities of groups:\n",
       "        0         1 \n",
       "0.5075988 0.4924012 \n",
       "\n",
       "Group means:\n",
       "         V1        V4        V5        V7        V9       V17\n",
       "0 0.6187625 0.3193613 0.2028136 0.6452096 0.5648703 0.6167665\n",
       "1 0.1419753 0.3367627 0.2682009 0.5586420 0.5390947 0.6152263\n",
       "\n",
       "Coefficients of linear discriminants:\n",
       "           LD1\n",
       "V1  -2.9262044\n",
       "V4   0.2395924\n",
       "V5   1.1287589\n",
       "V7  -0.5313162\n",
       "V9  -0.1678255\n",
       "V17  0.1713488"
      ]
     },
     "metadata": {},
     "output_type": "display_data"
    }
   ],
   "source": [
    "model = lda(V21 ~ ., data = training_set, family = binomial)\n",
    "model"
   ]
  },
  {
   "cell_type": "code",
   "execution_count": 52,
   "id": "77953c57",
   "metadata": {},
   "outputs": [
    {
     "data": {
      "text/html": [
       "<ol class=list-inline>\n",
       "\t<li>'class'</li>\n",
       "\t<li>'posterior'</li>\n",
       "\t<li>'x'</li>\n",
       "</ol>\n"
      ],
      "text/latex": [
       "\\begin{enumerate*}\n",
       "\\item 'class'\n",
       "\\item 'posterior'\n",
       "\\item 'x'\n",
       "\\end{enumerate*}\n"
      ],
      "text/markdown": [
       "1. 'class'\n",
       "2. 'posterior'\n",
       "3. 'x'\n",
       "\n",
       "\n"
      ],
      "text/plain": [
       "[1] \"class\"     \"posterior\" \"x\"        "
      ]
     },
     "metadata": {},
     "output_type": "display_data"
    },
    {
     "data": {
      "text/html": [
       "<table>\n",
       "<thead><tr><th></th><th scope=col>0</th><th scope=col>1</th></tr></thead>\n",
       "<tbody>\n",
       "\t<tr><th scope=row>2</th><td>0.9498083 </td><td>0.05019166</td></tr>\n",
       "\t<tr><th scope=row>4</th><td>0.5711106 </td><td>0.42888938</td></tr>\n",
       "\t<tr><th scope=row>5</th><td>0.4470856 </td><td>0.55291436</td></tr>\n",
       "\t<tr><th scope=row>8</th><td>0.9597340 </td><td>0.04026595</td></tr>\n",
       "\t<tr><th scope=row>11</th><td>0.9564561 </td><td>0.04354389</td></tr>\n",
       "\t<tr><th scope=row>16</th><td>0.9647091 </td><td>0.03529088</td></tr>\n",
       "</tbody>\n",
       "</table>\n"
      ],
      "text/latex": [
       "\\begin{tabular}{r|ll}\n",
       "  & 0 & 1\\\\\n",
       "\\hline\n",
       "\t2 & 0.9498083  & 0.05019166\\\\\n",
       "\t4 & 0.5711106  & 0.42888938\\\\\n",
       "\t5 & 0.4470856  & 0.55291436\\\\\n",
       "\t8 & 0.9597340  & 0.04026595\\\\\n",
       "\t11 & 0.9564561  & 0.04354389\\\\\n",
       "\t16 & 0.9647091  & 0.03529088\\\\\n",
       "\\end{tabular}\n"
      ],
      "text/markdown": [
       "\n",
       "| <!--/--> | 0 | 1 |\n",
       "|---|---|---|\n",
       "| 2 | 0.9498083  | 0.05019166 |\n",
       "| 4 | 0.5711106  | 0.42888938 |\n",
       "| 5 | 0.4470856  | 0.55291436 |\n",
       "| 8 | 0.9597340  | 0.04026595 |\n",
       "| 11 | 0.9564561  | 0.04354389 |\n",
       "| 16 | 0.9647091  | 0.03529088 |\n",
       "\n"
      ],
      "text/plain": [
       "   0         1         \n",
       "2  0.9498083 0.05019166\n",
       "4  0.5711106 0.42888938\n",
       "5  0.4470856 0.55291436\n",
       "8  0.9597340 0.04026595\n",
       "11 0.9564561 0.04354389\n",
       "16 0.9647091 0.03529088"
      ]
     },
     "metadata": {},
     "output_type": "display_data"
    }
   ],
   "source": [
    "testing_set2 <- testing_set\n",
    "credit_pred2 = predict(model, newdata = testing_set2)\n",
    "names(credit_pred2)\n",
    "head(credit_pred2$posterior)"
   ]
  },
  {
   "cell_type": "code",
   "execution_count": 53,
   "id": "89c0a495",
   "metadata": {},
   "outputs": [
    {
     "data": {
      "text/html": [
       "<dl class=dl-horizontal>\n",
       "\t<dt>sens</dt>\n",
       "\t\t<dd>0.794117647058823</dd>\n",
       "\t<dt>spec</dt>\n",
       "\t\t<dd>0.777777777777778</dd>\n",
       "\t<dt>acc</dt>\n",
       "\t\t<dd>0.786259541984733</dd>\n",
       "</dl>\n"
      ],
      "text/latex": [
       "\\begin{description*}\n",
       "\\item[sens] 0.794117647058823\n",
       "\\item[spec] 0.777777777777778\n",
       "\\item[acc] 0.786259541984733\n",
       "\\end{description*}\n"
      ],
      "text/markdown": [
       "sens\n",
       ":   0.794117647058823spec\n",
       ":   0.777777777777778acc\n",
       ":   0.786259541984733\n",
       "\n"
      ],
      "text/plain": [
       "     sens      spec       acc \n",
       "0.7941176 0.7777778 0.7862595 "
      ]
     },
     "metadata": {},
     "output_type": "display_data"
    }
   ],
   "source": [
    "perf_indexes(table(credit_pred2$class, testing_set2$V21))"
   ]
  },
  {
   "cell_type": "markdown",
   "id": "38564ff2",
   "metadata": {},
   "source": [
    "**Conclusions**\n",
    "\n",
    "The prediction accuracy of the model is approximately 79.41%.\n",
    "\n",
    "Specificity indicates the model's ability to predict true negatives in each available category at 77.78%.\n",
    "\n",
    "Sensitivity indicates the model's ability to predict true positives in each available category at 78.62%."
   ]
  },
  {
   "cell_type": "markdown",
   "id": "7455f332",
   "metadata": {},
   "source": [
    "## Exercise 5"
   ]
  },
  {
   "cell_type": "markdown",
   "id": "bf740a48",
   "metadata": {},
   "source": [
    "|        |       Naive Bayes       |   Logistic Regression   |           LDA           |\n",
    "|--------|-------------------------|-------------------------|-------------------------|\n",
    "|  SENS  | 0.838235294117647       |  NA                     | 0.794117647058823       |\n",
    "|--------|-------------------------|-------------------------|-------------------------|\n",
    "|  SPEC  | 0.761904761904762       | 0.5                     | 0.777777777777778       |\n",
    "|--------|-------------------------|-------------------------|-------------------------|\n",
    "|  ACC   | 0.801526717557252       | 0.00763358778625954     | 0.786259541984733       |"
   ]
  },
  {
   "cell_type": "markdown",
   "id": "8d63b070",
   "metadata": {},
   "source": [
    "Analyzing the results in the table, the conclusions can be drawn that:\n",
    "\n",
    "* according to available data, the most accurate prediction model is the Naive Bayes classifier\n",
    "* specificity indicates the ability of the model to predict true negatives in each available category. The LDa model is the best at this, followed by Naive Bayes, and third, if this result is to be believed, is randomistic regression\n",
    "*sensitivity indicates the model's ability to predict true positives in each available category. In this respect, the Naive Bayes classifier model turned out to be the best.\n",
    "\n",
    "To sum up, one can get the impression that the Bayesian classifier is quite a good classifier."
   ]
  },
  {
   "cell_type": "code",
   "execution_count": null,
   "id": "3317f599",
   "metadata": {},
   "outputs": [],
   "source": []
  }
 ],
 "metadata": {
  "kernelspec": {
   "display_name": "R",
   "language": "R",
   "name": "ir"
  },
  "language_info": {
   "codemirror_mode": "r",
   "file_extension": ".r",
   "mimetype": "text/x-r-source",
   "name": "R",
   "pygments_lexer": "r",
   "version": "3.6.1"
  }
 },
 "nbformat": 4,
 "nbformat_minor": 5
}
