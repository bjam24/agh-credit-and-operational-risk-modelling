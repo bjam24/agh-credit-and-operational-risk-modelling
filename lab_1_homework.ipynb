{
 "cells": [
  {
   "cell_type": "markdown",
   "id": "4c4b33f8",
   "metadata": {},
   "source": [
    "# Laboratory 1 - Models in credit and operational risk\n",
    "**Bartłomiej Jamiołkowski 04.03.2022**"
   ]
  },
  {
   "cell_type": "markdown",
   "id": "c847818f",
   "metadata": {},
   "source": [
    "## Exercise 1"
   ]
  },
  {
   "cell_type": "markdown",
   "id": "6baddb41",
   "metadata": {},
   "source": [
    "**What is LDA (linear discriminant analysis)? What is it for? How are its results interpreted?**"
   ]
  },
  {
   "cell_type": "markdown",
   "id": "7e8df098",
   "metadata": {},
   "source": [
    "Linear Discriminant Analysis (LDA) is a supervised linear transformation technique used to reduce dimensionality when predicting classes of observations by finding axes represented by directions (linear discriminators) that maximize the distances between the class means and the central point in the mapped lower dimensional space."
   ]
  },
  {
   "cell_type": "markdown",
   "id": "50702157",
   "metadata": {},
   "source": [
    "**What is the Altman Z-score model? How do we interpret its results?**"
   ]
  },
  {
   "cell_type": "markdown",
   "id": "f52cb5b5",
   "metadata": {},
   "source": [
    "The Altman Z-score model is a bankruptcy prediction model that assumes the results in such a way that Z > 3.0 means bankruptcy is unlikely, 1.8 < Z < 3.0 indicates a gray zone and Z < 1.8 can be interpreted as bankruptcy of a given company."
   ]
  },
  {
   "cell_type": "markdown",
   "id": "2565ac5a",
   "metadata": {},
   "source": [
    "**How does the Altman model relate to credit risk?**"
   ]
  },
  {
   "cell_type": "markdown",
   "id": "510dc3b5",
   "metadata": {},
   "source": [
    "The Altman model indicates the risk of loss (bankruptcy), i.e. failure to fulfill an obligation by the debtor or an unfavorable change in his financial situation."
   ]
  },
  {
   "cell_type": "markdown",
   "id": "7500e514",
   "metadata": {},
   "source": [
    "**What other LDA-based models do you know? Do you think they are better/worse than the original? Why?**"
   ]
  },
  {
   "cell_type": "markdown",
   "id": "d57f39a1",
   "metadata": {},
   "source": [
    "Models based on LDA include: the Hanasik model, the Prusak model, the \"Poznań\" model, and the \"PAN\" model. They are better than the original because they have higher efficiencies and a different range of explanatory variables."
   ]
  },
  {
   "cell_type": "markdown",
   "id": "64dd782a",
   "metadata": {},
   "source": [
    "## Exercise 2"
   ]
  },
  {
   "cell_type": "markdown",
   "id": "bcea259f",
   "metadata": {},
   "source": [
    "**Used libraries**"
   ]
  },
  {
   "cell_type": "code",
   "execution_count": 61,
   "id": "483ff65e",
   "metadata": {},
   "outputs": [],
   "source": [
    "options(warn=-1)\n",
    "library(dplyr)\n",
    "library(kableExtra)\n",
    "library(extraoperators)\n",
    "library(MASS)"
   ]
  },
  {
   "cell_type": "markdown",
   "id": "44762fde",
   "metadata": {},
   "source": [
    "**Data import**"
   ]
  },
  {
   "cell_type": "code",
   "execution_count": 62,
   "id": "2b769cff",
   "metadata": {},
   "outputs": [],
   "source": [
    "company_data <- read.csv(\"plik1.csv\", header = TRUE, sep=\";\")"
   ]
  },
  {
   "cell_type": "markdown",
   "id": "1b3cb6d9",
   "metadata": {},
   "source": [
    "**Description of the variables considered**"
   ]
  },
  {
   "cell_type": "markdown",
   "id": "1007e1d3",
   "metadata": {},
   "source": [
    "- Attr3 (working capital / total assets)\n",
    "- Attr6 (retained earnings / total assets)\n",
    "- Attr7 (earnings before interest and tax (EBIT) / total assets)\n",
    "- Attr8 (market value of equity (book value of equity / total liabilities))\n",
    "- Attr9 (sales / total assets)\n",
    "- class (1 - bankrupt company, 0 - company that did not bankrupt in the forecasting period)"
   ]
  },
  {
   "cell_type": "markdown",
   "id": "60ec91a0",
   "metadata": {},
   "source": [
    "**Data cleaning**"
   ]
  },
  {
   "cell_type": "markdown",
   "id": "6146a9b3",
   "metadata": {},
   "source": [
    "Replacing NA characters."
   ]
  },
  {
   "cell_type": "code",
   "execution_count": 63,
   "id": "b0922d08",
   "metadata": {},
   "outputs": [],
   "source": [
    "company_data[company_data == \"?\" | company_data == \"-\" | company_data == \"\"] <- NA"
   ]
  },
  {
   "cell_type": "markdown",
   "id": "de374466",
   "metadata": {},
   "source": [
    "NA removal, data type change and reindexing."
   ]
  },
  {
   "cell_type": "code",
   "execution_count": 64,
   "id": "df8d7495",
   "metadata": {},
   "outputs": [],
   "source": [
    "company_data <- na.omit(company_data)\n",
    "company_data <- mutate_all(company_data, function(x) as.numeric(as.character(x)))\n",
    "rownames(company_data) <- 1:nrow(company_data)\n",
    "company_data2 <- company_data\n",
    "company_data3 <- company_data"
   ]
  },
  {
   "cell_type": "markdown",
   "id": "c8115edf",
   "metadata": {},
   "source": [
    "Searching for outliers in variables used in the model."
   ]
  },
  {
   "cell_type": "code",
   "execution_count": 65,
   "id": "4c78ea6e",
   "metadata": {},
   "outputs": [
    {
     "data": {
      "image/png": "[encoded data removed]",
      "text/plain": [
       "plot without title"
      ]
     },
     "metadata": {},
     "output_type": "display_data"
    }
   ],
   "source": [
    "par(mfrow=c(3, 2), mar=c(4,5,2,1))\n",
    "boxplot(Attr3 ~ class, data = company_data, \n",
    "    col=c(\"#0474BA\", \"#13ae4b\") ,\n",
    "    ylab=\"Attr3\" , xlab=\"class\")\n",
    "\n",
    "boxplot(Attr6 ~ class, data = company_data, \n",
    "    col=c(\"#0474BA\", \"#13ae4b\") ,\n",
    "    ylab=\"Attr6\" , xlab=\"class\")\n",
    "\n",
    "boxplot(Attr7 ~ class, data = company_data, \n",
    "    col=c(\"#0474BA\", \"#13ae4b\") ,\n",
    "    ylab=\"Attr7\" , xlab=\"class\")\n",
    "\n",
    "boxplot(Attr8 ~ class, data = company_data, \n",
    "    col=c(\"#0474BA\", \"#13ae4b\") ,\n",
    "    ylab=\"Attr8\" , xlab=\"class\")\n",
    "\n",
    "boxplot(Attr9 ~ class, data = company_data, \n",
    "    col=c(\"#0474BA\", \"#13ae4b\") ,\n",
    "    ylab=\"Attr9\" , xlab=\"class\")"
   ]
  },
  {
   "cell_type": "markdown",
   "id": "0360f23d",
   "metadata": {},
   "source": [
    "Removing outliers"
   ]
  },
  {
   "cell_type": "markdown",
   "id": "d0995d9d",
   "metadata": {},
   "source": [
    "Dividing a set by a binary variable."
   ]
  },
  {
   "cell_type": "code",
   "execution_count": 66,
   "id": "f448a12f",
   "metadata": {},
   "outputs": [],
   "source": [
    "company_data_0 <- subset(company_data, class == 0)\n",
    "company_data_1 <- subset(company_data, class == 1)"
   ]
  },
  {
   "cell_type": "markdown",
   "id": "74a745e7",
   "metadata": {},
   "source": [
    "Removing outliers in a variable **Attr3**."
   ]
  },
  {
   "cell_type": "markdown",
   "id": "b0dc8f78",
   "metadata": {},
   "source": [
    "Setting the boundary from which points are removed as outliers for two subsets.\n",
    "\n",
    "Detection of quartile values for a variable from a subset of solvent companies."
   ]
  },
  {
   "cell_type": "code",
   "execution_count": 67,
   "id": "42c30dae",
   "metadata": {},
   "outputs": [
    {
     "data": {
      "text/plain": [
       "    Min.  1st Qu.   Median     Mean  3rd Qu.     Max. \n",
       "-1.95680  0.02052  0.15177  0.15656  0.29058  0.85911 "
      ]
     },
     "metadata": {},
     "output_type": "display_data"
    }
   ],
   "source": [
    "summary(company_data_0$Attr3)"
   ]
  },
  {
   "cell_type": "markdown",
   "id": "fef50afe",
   "metadata": {},
   "source": [
    "Calculating the minimum and maximum allowable value of a given variable from this subset."
   ]
  },
  {
   "cell_type": "code",
   "execution_count": 68,
   "id": "0e932d1f",
   "metadata": {},
   "outputs": [],
   "source": [
    "interquantile_range = 0.29058 - 0.02052\n",
    "min = 0.02052 - 1.5*interquantile_range\n",
    "max = 0.29058 + 1.5*interquantile_range"
   ]
  },
  {
   "cell_type": "markdown",
   "id": "41e5685a",
   "metadata": {},
   "source": [
    "Removing outliers in the dataset and the dataset of non-bankrupt companies by creating subsets."
   ]
  },
  {
   "cell_type": "code",
   "execution_count": 69,
   "id": "1aa78e41",
   "metadata": {},
   "outputs": [],
   "source": [
    "company_data <- subset(company_data, Attr3 %gele% c(min, max) )\n",
    "company_data_0 <- subset(company_data_0, Attr3 %gele% c(min, max) )"
   ]
  },
  {
   "cell_type": "markdown",
   "id": "62d79c2e",
   "metadata": {},
   "source": [
    "Detection of quartile values for a variable from a subset of insolvent companies."
   ]
  },
  {
   "cell_type": "code",
   "execution_count": 70,
   "id": "47e9d858",
   "metadata": {},
   "outputs": [
    {
     "data": {
      "text/plain": [
       "    Min.  1st Qu.   Median     Mean  3rd Qu.     Max. \n",
       "-0.58540 -0.02102  0.05754  0.06775  0.20829  0.58598 "
      ]
     },
     "metadata": {},
     "output_type": "display_data"
    }
   ],
   "source": [
    "summary(company_data_1$Attr3)"
   ]
  },
  {
   "cell_type": "markdown",
   "id": "788df1cc",
   "metadata": {},
   "source": [
    "Calculating the minimum and maximum allowable value of a given variable from this subset."
   ]
  },
  {
   "cell_type": "code",
   "execution_count": 71,
   "id": "1a06d329",
   "metadata": {},
   "outputs": [],
   "source": [
    "interquantile_range = 0.20829 + 0.02102\n",
    "min =  -0.02102 - 1.5*interquantile_range\n",
    "max = 0.20829 + 1.5*interquantile_range"
   ]
  },
  {
   "cell_type": "markdown",
   "id": "023578e2",
   "metadata": {},
   "source": [
    "Removing outliers in a dataset and a dataset of companies that went bankrupt by creating subsets."
   ]
  },
  {
   "cell_type": "code",
   "execution_count": 72,
   "id": "8b4159ce",
   "metadata": {},
   "outputs": [],
   "source": [
    "company_data <- subset(company_data, Attr3 %gele% c(min, max) )\n",
    "company_data_1 <- subset(company_data_1, Attr3 %gele% c(min, max) )"
   ]
  },
  {
   "cell_type": "markdown",
   "id": "9dc58408",
   "metadata": {},
   "source": [
    "Removing outliers in a variable **Attr7**"
   ]
  },
  {
   "cell_type": "code",
   "execution_count": 73,
   "id": "700ddfa8",
   "metadata": {},
   "outputs": [
    {
     "data": {
      "text/plain": [
       "    Min.  1st Qu.   Median     Mean  3rd Qu.     Max. \n",
       "-0.14438  0.04027  0.09045  0.11871  0.16018  1.53990 "
      ]
     },
     "metadata": {},
     "output_type": "display_data"
    }
   ],
   "source": [
    "summary(company_data_0$Attr7)"
   ]
  },
  {
   "cell_type": "code",
   "execution_count": 74,
   "id": "dee731e8",
   "metadata": {},
   "outputs": [],
   "source": [
    "interquantile_range = 0.16018 -  0.04027\n",
    "min =  0.04027 - 1.5*interquantile_range\n",
    "max = 0.16018 + 1.5*interquantile_range"
   ]
  },
  {
   "cell_type": "code",
   "execution_count": 75,
   "id": "1f870f5c",
   "metadata": {},
   "outputs": [],
   "source": [
    "company_data <- subset(company_data, Attr7 %gele% c(min, max) )\n",
    "company_data_0 <- subset(company_data_0, Attr7 %gele% c(min, max) )"
   ]
  },
  {
   "cell_type": "code",
   "execution_count": 76,
   "id": "12ad24d6",
   "metadata": {},
   "outputs": [
    {
     "data": {
      "text/plain": [
       "    Min.  1st Qu.   Median     Mean  3rd Qu.     Max. \n",
       "0.001003 0.014544 0.038281 0.072810 0.126070 0.230450 "
      ]
     },
     "metadata": {},
     "output_type": "display_data"
    }
   ],
   "source": [
    "summary(company_data_1$Attr7)"
   ]
  },
  {
   "cell_type": "code",
   "execution_count": 77,
   "id": "7cec1564",
   "metadata": {},
   "outputs": [],
   "source": [
    "interquantile_range = 0.126070 - 0.014544\n",
    "min =  0.014544 - 1.5*interquantile_range\n",
    "max = 0.126070 + 1.5*interquantile_range"
   ]
  },
  {
   "cell_type": "code",
   "execution_count": 78,
   "id": "025fbcf8",
   "metadata": {},
   "outputs": [],
   "source": [
    "company_data <- subset(company_data, Attr7 %gele% c(min, max) )\n",
    "company_data_1 <- subset(company_data_1, Attr7 %gele% c(min, max) )"
   ]
  },
  {
   "cell_type": "markdown",
   "id": "631a805d",
   "metadata": {},
   "source": [
    "Removing outliers in a variable **Attr8**"
   ]
  },
  {
   "cell_type": "code",
   "execution_count": 79,
   "id": "c6d24dbc",
   "metadata": {},
   "outputs": [
    {
     "data": {
      "text/plain": [
       "    Min.  1st Qu.   Median     Mean  3rd Qu.     Max. \n",
       " -0.5176   0.4670   0.8818   1.4312   1.6127 115.1900 "
      ]
     },
     "metadata": {},
     "output_type": "display_data"
    }
   ],
   "source": [
    "summary(company_data_0$Attr8)"
   ]
  },
  {
   "cell_type": "code",
   "execution_count": 80,
   "id": "3a71f52d",
   "metadata": {},
   "outputs": [],
   "source": [
    "interquantile_range = 1.6127 -  0.4670\n",
    "min =  0.4670 - 1.5*interquantile_range\n",
    "max = 1.6127 + 1.5*interquantile_range"
   ]
  },
  {
   "cell_type": "code",
   "execution_count": 81,
   "id": "7e484391",
   "metadata": {},
   "outputs": [],
   "source": [
    "company_data <- subset(company_data, Attr8 %gele% c(min, max) )\n",
    "company_data_0 <- subset(company_data_0, Attr8 %gele% c(min, max) )"
   ]
  },
  {
   "cell_type": "code",
   "execution_count": 82,
   "id": "802f1056",
   "metadata": {},
   "outputs": [
    {
     "data": {
      "text/plain": [
       "   Min. 1st Qu.  Median    Mean 3rd Qu.    Max. \n",
       " 0.1002  0.2897  0.5159  0.6691  0.8670  1.9929 "
      ]
     },
     "metadata": {},
     "output_type": "display_data"
    }
   ],
   "source": [
    "summary(company_data_1$Attr8)"
   ]
  },
  {
   "cell_type": "code",
   "execution_count": 83,
   "id": "640d9719",
   "metadata": {},
   "outputs": [],
   "source": [
    "interquantile_range = 0.8670 - 0.2897\n",
    "min = 0.2897 - 1.5*interquantile_range\n",
    "max = 0.8670 + 1.5*interquantile_range"
   ]
  },
  {
   "cell_type": "code",
   "execution_count": 84,
   "id": "c8e23b14",
   "metadata": {},
   "outputs": [],
   "source": [
    "company_data <- subset(company_data, Attr8 %gele% c(min, max) )\n",
    "company_data_1 <- subset(company_data_1, Attr8 %gele% c(min, max) )"
   ]
  },
  {
   "cell_type": "markdown",
   "id": "a3ab3119",
   "metadata": {},
   "source": [
    "Removing outliers in a variable **Attr9**"
   ]
  },
  {
   "cell_type": "code",
   "execution_count": 85,
   "id": "8b2e6480",
   "metadata": {},
   "outputs": [
    {
     "data": {
      "text/plain": [
       "   Min. 1st Qu.  Median    Mean 3rd Qu.    Max. \n",
       " 0.3212  1.0333  1.1078  1.5095  1.6671 71.5550 "
      ]
     },
     "metadata": {},
     "output_type": "display_data"
    }
   ],
   "source": [
    "summary(company_data_0$Attr9)"
   ]
  },
  {
   "cell_type": "code",
   "execution_count": 86,
   "id": "8847385e",
   "metadata": {},
   "outputs": [],
   "source": [
    "interquantile_range = 1.6671 -  1.0333\n",
    "min =  1.0333 - 1.5*interquantile_range\n",
    "max = 1.6671 + 1.5*interquantile_range"
   ]
  },
  {
   "cell_type": "code",
   "execution_count": 87,
   "id": "f4cd2e0a",
   "metadata": {},
   "outputs": [],
   "source": [
    "company_data <- subset(company_data, Attr9 %gele% c(min, max) )\n",
    "company_data_0 <- subset(company_data_0, Attr9 %gele% c(min, max) )"
   ]
  },
  {
   "cell_type": "code",
   "execution_count": 88,
   "id": "190bcd53",
   "metadata": {},
   "outputs": [
    {
     "data": {
      "text/plain": [
       "   Min. 1st Qu.  Median    Mean 3rd Qu.    Max. \n",
       " 0.2801  1.1803  2.0807  2.1284  2.4644  5.6958 "
      ]
     },
     "metadata": {},
     "output_type": "display_data"
    }
   ],
   "source": [
    "summary(company_data_1$Attr9)"
   ]
  },
  {
   "cell_type": "code",
   "execution_count": 89,
   "id": "89468bb4",
   "metadata": {},
   "outputs": [],
   "source": [
    "interquantile_range = 2.4644 - 1.1803 \n",
    "min = 1.1803 - 1.5*interquantile_range\n",
    "max = 2.4644 + 1.5*interquantile_range"
   ]
  },
  {
   "cell_type": "code",
   "execution_count": 90,
   "id": "32515368",
   "metadata": {},
   "outputs": [],
   "source": [
    "company_data <- subset(company_data, Attr9 %gele% c(min, max) )\n",
    "company_data_1 <- subset(company_data_1, Attr9 %gele% c(min, max) )"
   ]
  },
  {
   "cell_type": "markdown",
   "id": "c18525c3",
   "metadata": {},
   "source": [
    "Re-indexing the data frame"
   ]
  },
  {
   "cell_type": "code",
   "execution_count": 91,
   "id": "a2b7c191",
   "metadata": {},
   "outputs": [],
   "source": [
    "rownames(company_data) <- 1:nrow(company_data)"
   ]
  },
  {
   "cell_type": "markdown",
   "id": "e07f9ea5",
   "metadata": {},
   "source": [
    "**Construction of the Altman model**"
   ]
  },
  {
   "cell_type": "markdown",
   "id": "7f6c9420",
   "metadata": {},
   "source": [
    "Explanatory variables of the model:\n",
    "- x1 = Attr3 (working capital / total assets)\n",
    "- x2 = Attr6 (retained earnings / total assets)\n",
    "- x3 = Attr7 (earnings before interest and tax (EBIT) / total assets)\n",
    "- x4 = Attr8 (market value of equity (book value of equity / total liabilities))\n",
    "- x5 = Attr9 (sales / total assets)"
   ]
  },
  {
   "cell_type": "code",
   "execution_count": 92,
   "id": "48f1db7d",
   "metadata": {},
   "outputs": [
    {
     "data": {
      "text/html": [
       "3.769261"
      ],
      "text/latex": [
       "3.769261"
      ],
      "text/markdown": [
       "3.769261"
      ],
      "text/plain": [
       "[1] 3.769261"
      ]
     },
     "metadata": {},
     "output_type": "display_data"
    },
    {
     "data": {
      "text/html": [
       "1.7813202"
      ],
      "text/latex": [
       "1.7813202"
      ],
      "text/markdown": [
       "1.7813202"
      ],
      "text/plain": [
       "[1] 1.78132"
      ]
     },
     "metadata": {},
     "output_type": "display_data"
    },
    {
     "data": {
      "text/html": [
       "3.657474"
      ],
      "text/latex": [
       "3.657474"
      ],
      "text/markdown": [
       "3.657474"
      ],
      "text/plain": [
       "[1] 3.657474"
      ]
     },
     "metadata": {},
     "output_type": "display_data"
    },
    {
     "data": {
      "text/html": [
       "1.3921386"
      ],
      "text/latex": [
       "1.3921386"
      ],
      "text/markdown": [
       "1.3921386"
      ],
      "text/plain": [
       "[1] 1.392139"
      ]
     },
     "metadata": {},
     "output_type": "display_data"
    },
    {
     "data": {
      "text/html": [
       "1.5145716"
      ],
      "text/latex": [
       "1.5145716"
      ],
      "text/markdown": [
       "1.5145716"
      ],
      "text/plain": [
       "[1] 1.514572"
      ]
     },
     "metadata": {},
     "output_type": "display_data"
    }
   ],
   "source": [
    "# company with index 1\n",
    "z1 = 1.2*company_data$Attr3[1] + 1.4*company_data$Attr6[1] + 3.3*company_data$Attr7[1] + 0.6*company_data$Attr8[1] + \n",
    "0.99*company_data$Attr9[1] \n",
    "z1\n",
    "# company with index 2\n",
    "z2 = 1.2*company_data$Attr3[2] + 1.4*company_data$Attr6[2] + 3.3*company_data$Attr7[2] + 0.6*company_data$Attr8[2] + \n",
    "0.99*company_data$Attr9[2] \n",
    "z2\n",
    "# company with index 1817\n",
    "z3 = 1.2*company_data$Attr3[1817] + 1.4*company_data$Attr6[1817] + 3.3*company_data$Attr7[1817] + \n",
    "0.6*company_data$Attr8[1817] + 0.99*company_data$Attr9[1817] \n",
    "z3\n",
    "# company with index 1820\n",
    "z4 = 1.2*company_data$Attr3[1820] + 1.4*company_data$Attr6[1820] + 3.3*company_data$Attr7[1820] + \n",
    "0.6*company_data$Attr8[1820] + 0.99*company_data$Attr9[1820] \n",
    "z4\n",
    "# company with index 1818\n",
    "z5 = 1.2*company_data$Attr3[1818] + 1.4*company_data$Attr6[1818] + 3.3*company_data$Attr7[1818] + \n",
    "0.6*company_data$Attr8[1818] + 0.99*company_data$Attr9[1818] \n",
    "z5"
   ]
  },
  {
   "cell_type": "markdown",
   "id": "b3795a2b",
   "metadata": {},
   "source": [
    "**Wnioski**"
   ]
  },
  {
   "cell_type": "markdown",
   "id": "604b1d18",
   "metadata": {},
   "source": [
    "| Company | Z-score |      Conclusion      | Real value |\n",
    "| ------- | ------- | -------------------- | ---------- |\n",
    "|    1    |3.769261 |low prob of bankruptcy|      0     |\n",
    "|    2    |1.7813202|bankruptcy            |      0     |\n",
    "|    3    |3.657474 |low prob of bankruptcy|      1     |\n",
    "|    4    |1.3921386|bankruptcy            |      1     |\n",
    "|    5    |1.5145716|bankruptcy            |      1     |"
   ]
  },
  {
   "cell_type": "markdown",
   "id": "bb519ac0",
   "metadata": {},
   "source": [
    "The model for company 1 predicts no bankruptcy, which coincides with the data set indicating the solvency of this company.\n",
    "\n",
    "The model for company 2 predicts bankruptcy. In fact, the company did not go bankrupt.\n",
    "\n",
    "The model for firm 3 predicts no bankruptcy. In fact, the company went bankrupt.\n",
    "\n",
    "The model for company 4 predicts bankruptcy, which coincides with the data set indicating the insolvency of this company.\n",
    "\n",
    "The model for company 5 predicts bankruptcy, which coincides with the data set indicating the insolvency of this company."
   ]
  },
  {
   "cell_type": "markdown",
   "id": "b0e354f6",
   "metadata": {},
   "source": [
    "## Exercise 3"
   ]
  },
  {
   "cell_type": "markdown",
   "id": "2b9589a1",
   "metadata": {},
   "source": [
    "**Error matrix**"
   ]
  },
  {
   "cell_type": "markdown",
   "id": "3b7cf600",
   "metadata": {},
   "source": [
    "| Pred\\Real | 1       | 0       |  \n",
    "| --------- | ------- | ------- |\n",
    "|    1      | 2       | 1       |     \n",
    "|    0      | 1       | 1       |      \n"
   ]
  },
  {
   "cell_type": "code",
   "execution_count": 93,
   "id": "4acf53f2",
   "metadata": {},
   "outputs": [
    {
     "data": {
      "text/html": [
       "0.666666666666667"
      ],
      "text/latex": [
       "0.666666666666667"
      ],
      "text/markdown": [
       "0.666666666666667"
      ],
      "text/plain": [
       "[1] 0.6666667"
      ]
     },
     "metadata": {},
     "output_type": "display_data"
    },
    {
     "data": {
      "text/html": [
       "0.666666666666667"
      ],
      "text/latex": [
       "0.666666666666667"
      ],
      "text/markdown": [
       "0.666666666666667"
      ],
      "text/plain": [
       "[1] 0.6666667"
      ]
     },
     "metadata": {},
     "output_type": "display_data"
    },
    {
     "data": {
      "text/html": [
       "0.666666666666667"
      ],
      "text/latex": [
       "0.666666666666667"
      ],
      "text/markdown": [
       "0.666666666666667"
      ],
      "text/plain": [
       "[1] 0.6666667"
      ]
     },
     "metadata": {},
     "output_type": "display_data"
    }
   ],
   "source": [
    "# confusion matrix terminology\n",
    "tp = 2 # true positive\n",
    "fp = 1 # false positive\n",
    "fn = 1 # false negative\n",
    "tn = 1 # true negative\n",
    "tpr = tp / (tp + fn) # recall - true postitive rate\n",
    "tpr \n",
    "ppv = tp / (tp + fp) # precision - positive predictive value\n",
    "ppv\n",
    "f1_score = 2 / ((1 / ppv) + (1 / tpr)) # is the harmonic mean of precision and sensitivity\n",
    "f1_score"
   ]
  },
  {
   "cell_type": "markdown",
   "id": "507fcaec",
   "metadata": {},
   "source": [
    "**Conclusions**"
   ]
  },
  {
   "cell_type": "markdown",
   "id": "4773a9b0",
   "metadata": {},
   "source": [
    "- TP indicates that the model positively predicts 2 company bankruptcies,\n",
    "- FP indicates that the model negatively predicts the bankruptcy of the company 1 time,\n",
    "- FN indicates that the model negatively predicts for the 1st time that the company will not go bankrupt,\n",
    "- TN indicates that the model positively predicts that the company will not go bankrupt 1 time,\n",
    "- TPR indicates a 66.67% percentage of correct predictions in the bankruptcy class,\n",
    "- PPV indicates a 66.67% share of companies actually identified as bankrupt compared to all companies whose research indicated bankruptcy (correctly and incorrectly predicted),\n",
    "- F1 score indicates 66.67% test accuracy."
   ]
  },
  {
   "cell_type": "markdown",
   "id": "26163ed3",
   "metadata": {},
   "source": [
    "## Exercise 4"
   ]
  },
  {
   "cell_type": "markdown",
   "id": "0230c5b0",
   "metadata": {},
   "source": [
    "The task uses variables from task 2, which involves the use of a cleaned data set. The discussed set is not balanced because the numbers of insolvent and solvent companies are not equal. In order to obtain a balanced data set, a limited number of companies that have not undergone a merger are randomly selected so that the proportions (0/1) are equal."
   ]
  },
  {
   "cell_type": "markdown",
   "id": "c54d8712",
   "metadata": {},
   "source": [
    "Creating subsets of a data frame by a binary variable."
   ]
  },
  {
   "cell_type": "code",
   "execution_count": 94,
   "id": "1039787d",
   "metadata": {},
   "outputs": [],
   "source": [
    "company_data_0 <- subset(company_data, class == 0)\n",
    "company_data_1 <- subset(company_data, class == 1)"
   ]
  },
  {
   "cell_type": "markdown",
   "id": "30cc62fa",
   "metadata": {},
   "source": [
    "Finding information about the number of solvent and bankrupt companies."
   ]
  },
  {
   "cell_type": "code",
   "execution_count": 95,
   "id": "0cce68c6",
   "metadata": {},
   "outputs": [
    {
     "data": {
      "text/html": [
       "<ol class=list-inline>\n",
       "\t<li>1804</li>\n",
       "\t<li>65</li>\n",
       "</ol>\n"
      ],
      "text/latex": [
       "\\begin{enumerate*}\n",
       "\\item 1804\n",
       "\\item 65\n",
       "\\end{enumerate*}\n"
      ],
      "text/markdown": [
       "1. 1804\n",
       "2. 65\n",
       "\n",
       "\n"
      ],
      "text/plain": [
       "[1] 1804   65"
      ]
     },
     "metadata": {},
     "output_type": "display_data"
    }
   ],
   "source": [
    "dim(company_data_0)"
   ]
  },
  {
   "cell_type": "code",
   "execution_count": 96,
   "id": "a2da0fc7",
   "metadata": {},
   "outputs": [
    {
     "data": {
      "text/html": [
       "<ol class=list-inline>\n",
       "\t<li>17</li>\n",
       "\t<li>65</li>\n",
       "</ol>\n"
      ],
      "text/latex": [
       "\\begin{enumerate*}\n",
       "\\item 17\n",
       "\\item 65\n",
       "\\end{enumerate*}\n"
      ],
      "text/markdown": [
       "1. 17\n",
       "2. 65\n",
       "\n",
       "\n"
      ],
      "text/plain": [
       "[1] 17 65"
      ]
     },
     "metadata": {},
     "output_type": "display_data"
    }
   ],
   "source": [
    "dim(company_data_1)"
   ]
  },
  {
   "cell_type": "markdown",
   "id": "5cb9cf7a",
   "metadata": {},
   "source": [
    "Creating a data frame of randomly selected insolvent companies."
   ]
  },
  {
   "cell_type": "code",
   "execution_count": 97,
   "id": "353d1bb5",
   "metadata": {},
   "outputs": [],
   "source": [
    "new_company_data_0 <- company_data_0[sample(1:nrow(company_data_0), 17), ]"
   ]
  },
  {
   "cell_type": "markdown",
   "id": "8ae0afb8",
   "metadata": {},
   "source": [
    "Combining data frames."
   ]
  },
  {
   "cell_type": "code",
   "execution_count": 98,
   "id": "87f95ee5",
   "metadata": {},
   "outputs": [],
   "source": [
    "balanced_data <- rbind(new_company_data_0, company_data_1)"
   ]
  },
  {
   "cell_type": "markdown",
   "id": "94c29650",
   "metadata": {},
   "source": [
    "Conducting reindexing."
   ]
  },
  {
   "cell_type": "code",
   "execution_count": 99,
   "id": "772664c6",
   "metadata": {},
   "outputs": [],
   "source": [
    "rownames(balanced_data) <- 1:nrow(balanced_data)"
   ]
  },
  {
   "cell_type": "markdown",
   "id": "83a2326c",
   "metadata": {},
   "source": [
    "### Linear Discriminant Analysis (LDA)"
   ]
  },
  {
   "cell_type": "markdown",
   "id": "a0b3a54c",
   "metadata": {},
   "source": [
    "Division of the data set into a training and test set."
   ]
  },
  {
   "cell_type": "code",
   "execution_count": 100,
   "id": "128e791d",
   "metadata": {},
   "outputs": [],
   "source": [
    "set.seed(123)\n",
    "ind <- sample(2, nrow(balanced_data), replace = TRUE, prob = c(0.8, 0.2))\n",
    "training <- balanced_data[ind==1,]\n",
    "testing <- balanced_data[ind==2,]"
   ]
  },
  {
   "cell_type": "markdown",
   "id": "4ef13983",
   "metadata": {},
   "source": [
    "Creating an LDA model."
   ]
  },
  {
   "cell_type": "code",
   "execution_count": 101,
   "id": "44c41809",
   "metadata": {},
   "outputs": [
    {
     "data": {
      "text/plain": [
       "Call:\n",
       "lda(class ~ Attr3 + Attr6 + Attr7 + Attr8 + Attr9, data = training)\n",
       "\n",
       "Prior probabilities of groups:\n",
       "  0   1 \n",
       "0.5 0.5 \n",
       "\n",
       "Group means:\n",
       "      Attr3      Attr6      Attr7     Attr8    Attr9\n",
       "0 0.1123924 0.06071808 0.12086633 0.7560192 1.348929\n",
       "1 0.0965760 0.02912400 0.08618825 0.5349292 1.885273\n",
       "\n",
       "Coefficients of linear discriminants:\n",
       "             LD1\n",
       "Attr3  0.9658195\n",
       "Attr6  3.0697110\n",
       "Attr7 -5.9063019\n",
       "Attr8 -0.8666317\n",
       "Attr9  1.6950203"
      ]
     },
     "metadata": {},
     "output_type": "display_data"
    }
   ],
   "source": [
    "LDA = lda(class ~ Attr3 + Attr6 + Attr7 +Attr8 +Attr9, data = training)\n",
    "LDA"
   ]
  },
  {
   "cell_type": "markdown",
   "id": "61998ce9",
   "metadata": {},
   "source": [
    "Prediction"
   ]
  },
  {
   "cell_type": "code",
   "execution_count": 102,
   "id": "91ae992d",
   "metadata": {},
   "outputs": [
    {
     "data": {
      "text/html": [
       "<ol class=list-inline>\n",
       "\t<li>'class'</li>\n",
       "\t<li>'posterior'</li>\n",
       "\t<li>'x'</li>\n",
       "</ol>\n"
      ],
      "text/latex": [
       "\\begin{enumerate*}\n",
       "\\item 'class'\n",
       "\\item 'posterior'\n",
       "\\item 'x'\n",
       "\\end{enumerate*}\n"
      ],
      "text/markdown": [
       "1. 'class'\n",
       "2. 'posterior'\n",
       "3. 'x'\n",
       "\n",
       "\n"
      ],
      "text/plain": [
       "[1] \"class\"     \"posterior\" \"x\"        "
      ]
     },
     "metadata": {},
     "output_type": "display_data"
    },
    {
     "data": {
      "text/html": [
       "<table>\n",
       "<thead><tr><th></th><th scope=col>0</th><th scope=col>1</th></tr></thead>\n",
       "<tbody>\n",
       "\t<tr><th scope=row>4</th><td>0.4871085 </td><td>0.51289150</td></tr>\n",
       "\t<tr><th scope=row>5</th><td>0.9801226 </td><td>0.01987742</td></tr>\n",
       "\t<tr><th scope=row>8</th><td>0.9108342 </td><td>0.08916583</td></tr>\n",
       "\t<tr><th scope=row>11</th><td>0.2720196 </td><td>0.72798040</td></tr>\n",
       "\t<tr><th scope=row>16</th><td>0.6873788 </td><td>0.31262123</td></tr>\n",
       "\t<tr><th scope=row>20</th><td>0.6263484 </td><td>0.37365158</td></tr>\n",
       "</tbody>\n",
       "</table>\n"
      ],
      "text/latex": [
       "\\begin{tabular}{r|ll}\n",
       "  & 0 & 1\\\\\n",
       "\\hline\n",
       "\t4 & 0.4871085  & 0.51289150\\\\\n",
       "\t5 & 0.9801226  & 0.01987742\\\\\n",
       "\t8 & 0.9108342  & 0.08916583\\\\\n",
       "\t11 & 0.2720196  & 0.72798040\\\\\n",
       "\t16 & 0.6873788  & 0.31262123\\\\\n",
       "\t20 & 0.6263484  & 0.37365158\\\\\n",
       "\\end{tabular}\n"
      ],
      "text/markdown": [
       "\n",
       "| <!--/--> | 0 | 1 |\n",
       "|---|---|---|\n",
       "| 4 | 0.4871085  | 0.51289150 |\n",
       "| 5 | 0.9801226  | 0.01987742 |\n",
       "| 8 | 0.9108342  | 0.08916583 |\n",
       "| 11 | 0.2720196  | 0.72798040 |\n",
       "| 16 | 0.6873788  | 0.31262123 |\n",
       "| 20 | 0.6263484  | 0.37365158 |\n",
       "\n"
      ],
      "text/plain": [
       "   0         1         \n",
       "4  0.4871085 0.51289150\n",
       "5  0.9801226 0.01987742\n",
       "8  0.9108342 0.08916583\n",
       "11 0.2720196 0.72798040\n",
       "16 0.6873788 0.31262123\n",
       "20 0.6263484 0.37365158"
      ]
     },
     "metadata": {},
     "output_type": "display_data"
    }
   ],
   "source": [
    "LDA_pred = predict(LDA, newdata = testing)\n",
    "names(LDA_pred)\n",
    "head(LDA_pred$posterior)"
   ]
  },
  {
   "cell_type": "markdown",
   "id": "641c5674",
   "metadata": {},
   "source": [
    "Confusion matrix results."
   ]
  },
  {
   "cell_type": "code",
   "execution_count": 103,
   "id": "cf27085f",
   "metadata": {},
   "outputs": [
    {
     "data": {
      "text/html": [
       "<dl class=dl-horizontal>\n",
       "\t<dt>sens</dt>\n",
       "\t\t<dd>0.2</dd>\n",
       "\t<dt>spec</dt>\n",
       "\t\t<dd>0.6</dd>\n",
       "\t<dt>acc</dt>\n",
       "\t\t<dd>0.4</dd>\n",
       "</dl>\n"
      ],
      "text/latex": [
       "\\begin{description*}\n",
       "\\item[sens] 0.2\n",
       "\\item[spec] 0.6\n",
       "\\item[acc] 0.4\n",
       "\\end{description*}\n"
      ],
      "text/markdown": [
       "sens\n",
       ":   0.2spec\n",
       ":   0.6acc\n",
       ":   0.4\n",
       "\n"
      ],
      "text/plain": [
       "sens spec  acc \n",
       " 0.2  0.6  0.4 "
      ]
     },
     "metadata": {},
     "output_type": "display_data"
    }
   ],
   "source": [
    "perf_indexes = function(cm){\n",
    " sensitivity = cm[2,2] / (cm[1,2] + cm[2,2])\n",
    " specificity = cm[1,1] / (cm[1,1] + cm[2,1])\n",
    " accuracy = sum(diag(cm)) / sum(cm)\n",
    " return(c(sens=sensitivity,spec=specificity,acc=accuracy))\n",
    "}\n",
    "perf_indexes(table(LDA_pred$class, testing$class))"
   ]
  },
  {
   "cell_type": "markdown",
   "id": "072c36e8",
   "metadata": {},
   "source": [
    "**Conclusions**\n",
    "\n",
    "The model's prediction accuracy is approximately 60%.\n",
    "\n",
    "Specificity indicates the model's ability to predict true negatives in each available category by 60%.\n",
    "\n",
    "Sensitivity indicates the model's ability to predict true positives within 20% of each available category.\n",
    "\n",
    "The parameters of the LDA model do not differ from the classic model."
   ]
  },
  {
   "cell_type": "markdown",
   "id": "146a313e",
   "metadata": {},
   "source": [
    "## Exercise 5"
   ]
  },
  {
   "cell_type": "markdown",
   "id": "6e2c8673",
   "metadata": {},
   "source": [
    "### Springate model"
   ]
  },
  {
   "cell_type": "markdown",
   "id": "1e8e1ebc",
   "metadata": {},
   "source": [
    "**What is the Springate model? What is it for? How are its results interpreted?**"
   ]
  },
  {
   "cell_type": "markdown",
   "id": "f7b018b5",
   "metadata": {},
   "source": [
    "The Springate model consists of 4 financial indicators and is used to determine the probability of company failure by comparing the results with 0.862 (a lower result means bankruptcy and a higher result means security)."
   ]
  },
  {
   "cell_type": "markdown",
   "id": "f4557633",
   "metadata": {},
   "source": [
    "Explanatory variables of the model:\n",
    "- x1 = Attr3 (working capital / total assets)\n",
    "- x2 = Attr7 (earnings before interest and tax (EBIT) / total assets)\n",
    "- x3 = Attr12 (gross profit / short-term liabilities)\n",
    "- x4 = Attr9 (sales / total assets)"
   ]
  },
  {
   "cell_type": "code",
   "execution_count": 104,
   "id": "b2f3a1be",
   "metadata": {},
   "outputs": [
    {
     "data": {
      "text/html": [
       "2.0660935"
      ],
      "text/latex": [
       "2.0660935"
      ],
      "text/markdown": [
       "2.0660935"
      ],
      "text/plain": [
       "[1] 2.066094"
      ]
     },
     "metadata": {},
     "output_type": "display_data"
    },
    {
     "data": {
      "text/html": [
       "0.65532729"
      ],
      "text/latex": [
       "0.65532729"
      ],
      "text/markdown": [
       "0.65532729"
      ],
      "text/plain": [
       "[1] 0.6553273"
      ]
     },
     "metadata": {},
     "output_type": "display_data"
    },
    {
     "data": {
      "text/html": [
       "1.8560995"
      ],
      "text/latex": [
       "1.8560995"
      ],
      "text/markdown": [
       "1.8560995"
      ],
      "text/plain": [
       "[1] 1.8561"
      ]
     },
     "metadata": {},
     "output_type": "display_data"
    },
    {
     "data": {
      "text/html": [
       "1.45472458"
      ],
      "text/latex": [
       "1.45472458"
      ],
      "text/markdown": [
       "1.45472458"
      ],
      "text/plain": [
       "[1] 1.454725"
      ]
     },
     "metadata": {},
     "output_type": "display_data"
    },
    {
     "data": {
      "text/html": [
       "0.4733617"
      ],
      "text/latex": [
       "0.4733617"
      ],
      "text/markdown": [
       "0.4733617"
      ],
      "text/plain": [
       "[1] 0.4733617"
      ]
     },
     "metadata": {},
     "output_type": "display_data"
    }
   ],
   "source": [
    "z1 = 1.03*company_data$Attr3[1] + 3.07*company_data$Attr7[1] + 0.66*company_data$Attr12[1] + 0.4*company_data$Attr9[1]\n",
    "z1\n",
    "z2 = 1.03*company_data$Attr3[2] + 3.07*company_data$Attr7[2] + 0.66*company_data$Attr12[2] + 0.4*company_data$Attr9[2]\n",
    "z2\n",
    "z3 = 1.03*company_data$Attr3[1817] + 3.07*company_data$Attr7[1817] + 0.66*company_data$Attr12[1817] + \n",
    "0.4*company_data$Attr9[1817]\n",
    "z3\n",
    "z4 = 1.03*company_data$Attr3[1820] + 3.07*company_data$Attr7[1820] + 0.66*company_data$Attr12[1820] + \n",
    "0.4*company_data2$Attr9[1820]\n",
    "z4\n",
    "z5 = 1.03*company_data$Attr3[1818] + 3.07*company_data$Attr7[1818] + 0.66*company_data$Attr12[1818] + \n",
    "0.4*company_data2$Attr9[1818]\n",
    "z5"
   ]
  },
  {
   "cell_type": "markdown",
   "id": "e7d255d0",
   "metadata": {},
   "source": [
    "The cutoff threshold in the model is 0.862."
   ]
  },
  {
   "cell_type": "markdown",
   "id": "c54f7a93",
   "metadata": {},
   "source": [
    "**Conclusions**"
   ]
  },
  {
   "cell_type": "markdown",
   "id": "920bc924",
   "metadata": {},
   "source": [
    "| Company | Z-score   |      Conclusion      | Real value |\n",
    "| ------- | --------- | -------------------- | ---------- |\n",
    "|    1    |2.0660935  |     no bankrupcy     |      0     |\n",
    "|    2    |0.65532729 |     bankruptcy       |      0     |\n",
    "|    3    |1.8560995  |     no bankrupcy     |      1     |\n",
    "|    4    |1.45472458 |     no bankrupcy     |      1     |\n",
    "|    5    |0.4733617  |     bankruptcy       |      1     |"
   ]
  },
  {
   "cell_type": "markdown",
   "id": "a1022091",
   "metadata": {},
   "source": [
    "The model for company 1 predicts no bankruptcy, which coincides with the data set indicating the solvency of this company.\n",
    "\n",
    "The model for company 2 predicts bankruptcy. In fact, the company did not go bankrupt.\n",
    "\n",
    "The model for firm 3 predicts no bankruptcy. In fact, the company went bankrupt.\n",
    "\n",
    "The model for company 4 predicts no bankruptcy. In fact, the company went bankrupt.\n",
    "\n",
    "The model for company 5 predicts bankruptcy, which coincides with the data set indicating the insolvency of this company."
   ]
  },
  {
   "cell_type": "markdown",
   "id": "2e4df394",
   "metadata": {},
   "source": [
    "### Linear Discriminant Analysis (LDA)"
   ]
  },
  {
   "cell_type": "markdown",
   "id": "f5ba136e",
   "metadata": {},
   "source": [
    "Creating an LDA model."
   ]
  },
  {
   "cell_type": "code",
   "execution_count": 105,
   "id": "407f24d9",
   "metadata": {},
   "outputs": [
    {
     "data": {
      "text/plain": [
       "Call:\n",
       "lda(class ~ Attr3 + Attr7 + Attr9 + Attr12, data = training)\n",
       "\n",
       "Prior probabilities of groups:\n",
       "  0   1 \n",
       "0.5 0.5 \n",
       "\n",
       "Group means:\n",
       "      Attr3      Attr7    Attr9    Attr12\n",
       "0 0.1123924 0.12086633 1.348929 0.3116945\n",
       "1 0.0965760 0.08618825 1.885273 0.2632187\n",
       "\n",
       "Coefficients of linear discriminants:\n",
       "              LD1\n",
       "Attr3   -1.347863\n",
       "Attr7  -22.752835\n",
       "Attr9    2.024967\n",
       "Attr12   6.198525"
      ]
     },
     "metadata": {},
     "output_type": "display_data"
    }
   ],
   "source": [
    "LDA = lda(class ~ Attr3 + Attr7 + Attr9 + Attr12, data = training)\n",
    "LDA"
   ]
  },
  {
   "cell_type": "markdown",
   "id": "b20ca7dc",
   "metadata": {},
   "source": [
    "Prediction"
   ]
  },
  {
   "cell_type": "code",
   "execution_count": 106,
   "id": "d930ce28",
   "metadata": {},
   "outputs": [
    {
     "data": {
      "text/html": [
       "<ol class=list-inline>\n",
       "\t<li>'class'</li>\n",
       "\t<li>'posterior'</li>\n",
       "\t<li>'x'</li>\n",
       "</ol>\n"
      ],
      "text/latex": [
       "\\begin{enumerate*}\n",
       "\\item 'class'\n",
       "\\item 'posterior'\n",
       "\\item 'x'\n",
       "\\end{enumerate*}\n"
      ],
      "text/markdown": [
       "1. 'class'\n",
       "2. 'posterior'\n",
       "3. 'x'\n",
       "\n",
       "\n"
      ],
      "text/plain": [
       "[1] \"class\"     \"posterior\" \"x\"        "
      ]
     },
     "metadata": {},
     "output_type": "display_data"
    },
    {
     "data": {
      "text/html": [
       "<table>\n",
       "<thead><tr><th></th><th scope=col>0</th><th scope=col>1</th></tr></thead>\n",
       "<tbody>\n",
       "\t<tr><th scope=row>4</th><td>0.405393293</td><td>0.59460671 </td></tr>\n",
       "\t<tr><th scope=row>5</th><td>0.945722596</td><td>0.05427740 </td></tr>\n",
       "\t<tr><th scope=row>8</th><td>0.946949345</td><td>0.05305066 </td></tr>\n",
       "\t<tr><th scope=row>11</th><td>0.002456746</td><td>0.99754325 </td></tr>\n",
       "\t<tr><th scope=row>16</th><td>0.700930449</td><td>0.29906955 </td></tr>\n",
       "\t<tr><th scope=row>20</th><td>0.760792084</td><td>0.23920792 </td></tr>\n",
       "</tbody>\n",
       "</table>\n"
      ],
      "text/latex": [
       "\\begin{tabular}{r|ll}\n",
       "  & 0 & 1\\\\\n",
       "\\hline\n",
       "\t4 & 0.405393293 & 0.59460671 \\\\\n",
       "\t5 & 0.945722596 & 0.05427740 \\\\\n",
       "\t8 & 0.946949345 & 0.05305066 \\\\\n",
       "\t11 & 0.002456746 & 0.99754325 \\\\\n",
       "\t16 & 0.700930449 & 0.29906955 \\\\\n",
       "\t20 & 0.760792084 & 0.23920792 \\\\\n",
       "\\end{tabular}\n"
      ],
      "text/markdown": [
       "\n",
       "| <!--/--> | 0 | 1 |\n",
       "|---|---|---|\n",
       "| 4 | 0.405393293 | 0.59460671  |\n",
       "| 5 | 0.945722596 | 0.05427740  |\n",
       "| 8 | 0.946949345 | 0.05305066  |\n",
       "| 11 | 0.002456746 | 0.99754325  |\n",
       "| 16 | 0.700930449 | 0.29906955  |\n",
       "| 20 | 0.760792084 | 0.23920792  |\n",
       "\n"
      ],
      "text/plain": [
       "   0           1         \n",
       "4  0.405393293 0.59460671\n",
       "5  0.945722596 0.05427740\n",
       "8  0.946949345 0.05305066\n",
       "11 0.002456746 0.99754325\n",
       "16 0.700930449 0.29906955\n",
       "20 0.760792084 0.23920792"
      ]
     },
     "metadata": {},
     "output_type": "display_data"
    }
   ],
   "source": [
    "LDA_pred = predict(LDA, newdata = testing)\n",
    "names(LDA_pred)\n",
    "head(LDA_pred$posterior)"
   ]
  },
  {
   "cell_type": "markdown",
   "id": "041fb407",
   "metadata": {},
   "source": [
    "Confusion matrix results."
   ]
  },
  {
   "cell_type": "code",
   "execution_count": 107,
   "id": "1bdfb8c0",
   "metadata": {},
   "outputs": [
    {
     "data": {
      "text/html": [
       "<dl class=dl-horizontal>\n",
       "\t<dt>sens</dt>\n",
       "\t\t<dd>0.2</dd>\n",
       "\t<dt>spec</dt>\n",
       "\t\t<dd>0.6</dd>\n",
       "\t<dt>acc</dt>\n",
       "\t\t<dd>0.4</dd>\n",
       "</dl>\n"
      ],
      "text/latex": [
       "\\begin{description*}\n",
       "\\item[sens] 0.2\n",
       "\\item[spec] 0.6\n",
       "\\item[acc] 0.4\n",
       "\\end{description*}\n"
      ],
      "text/markdown": [
       "sens\n",
       ":   0.2spec\n",
       ":   0.6acc\n",
       ":   0.4\n",
       "\n"
      ],
      "text/plain": [
       "sens spec  acc \n",
       " 0.2  0.6  0.4 "
      ]
     },
     "metadata": {},
     "output_type": "display_data"
    }
   ],
   "source": [
    "perf_indexes = function(cm){\n",
    " sensitivity = cm[2,2] / (cm[1,2] + cm[2,2])\n",
    " specificity = cm[1,1] / (cm[1,1] + cm[2,1])\n",
    " accuracy = sum(diag(cm)) / sum(cm)\n",
    " return(c(sens=sensitivity,spec=specificity,acc=accuracy))\n",
    "}\n",
    "perf_indexes(table(LDA_pred$class, testing$class))"
   ]
  },
  {
   "cell_type": "markdown",
   "id": "8e2ad729",
   "metadata": {},
   "source": [
    "**Conclusions**\n",
    "\n",
    "The model's prediction accuracy is approximately 40%.\n",
    "\n",
    "Specificity indicates the model's ability to predict true negatives in each available category by 60%.\n",
    "\n",
    "Sensitivity indicates the model's ability to predict true positives within 20% of each available category."
   ]
  },
  {
   "cell_type": "markdown",
   "id": "4ea94620",
   "metadata": {},
   "source": [
    "## Exercise 6"
   ]
  },
  {
   "cell_type": "markdown",
   "id": "977059b9",
   "metadata": {},
   "source": [
    "### An example of your own LDA model"
   ]
  },
  {
   "cell_type": "markdown",
   "id": "4286c1f3",
   "metadata": {},
   "source": [
    "Explanatory variables of the model:\n",
    "\n",
    "- Attr3 (working capital / total assets)\n",
    "- Attr6 (retained earnings / total assets)\n",
    "- Attr7 (earnings before interest and tax (EBIT) / total assets)\n",
    "- Attr8 (market value of equity (book value of equity / total liabilities))"
   ]
  },
  {
   "cell_type": "markdown",
   "id": "1666fe93",
   "metadata": {},
   "source": [
    "Creating an LDA model."
   ]
  },
  {
   "cell_type": "code",
   "execution_count": 108,
   "id": "0c15ea67",
   "metadata": {},
   "outputs": [
    {
     "data": {
      "text/plain": [
       "Call:\n",
       "lda(class ~ Attr3 + Attr6 + Attr7 + Attr8, data = training)\n",
       "\n",
       "Prior probabilities of groups:\n",
       "  0   1 \n",
       "0.5 0.5 \n",
       "\n",
       "Group means:\n",
       "      Attr3      Attr6      Attr7     Attr8\n",
       "0 0.1123924 0.06071808 0.12086633 0.7560192\n",
       "1 0.0965760 0.02912400 0.08618825 0.5349292\n",
       "\n",
       "Coefficients of linear discriminants:\n",
       "             LD1\n",
       "Attr3  2.0247230\n",
       "Attr6  0.5877986\n",
       "Attr7 -7.0219386\n",
       "Attr8 -1.8945024"
      ]
     },
     "metadata": {},
     "output_type": "display_data"
    }
   ],
   "source": [
    "LDA = lda(class ~ Attr3 + Attr6 + Attr7 + Attr8, data = training)\n",
    "LDA"
   ]
  },
  {
   "cell_type": "markdown",
   "id": "c3425278",
   "metadata": {},
   "source": [
    "Prediction"
   ]
  },
  {
   "cell_type": "code",
   "execution_count": 109,
   "id": "0d4adfa2",
   "metadata": {},
   "outputs": [
    {
     "data": {
      "text/html": [
       "<ol class=list-inline>\n",
       "\t<li>'class'</li>\n",
       "\t<li>'posterior'</li>\n",
       "\t<li>'x'</li>\n",
       "</ol>\n"
      ],
      "text/latex": [
       "\\begin{enumerate*}\n",
       "\\item 'class'\n",
       "\\item 'posterior'\n",
       "\\item 'x'\n",
       "\\end{enumerate*}\n"
      ],
      "text/markdown": [
       "1. 'class'\n",
       "2. 'posterior'\n",
       "3. 'x'\n",
       "\n",
       "\n"
      ],
      "text/plain": [
       "[1] \"class\"     \"posterior\" \"x\"        "
      ]
     },
     "metadata": {},
     "output_type": "display_data"
    },
    {
     "data": {
      "text/html": [
       "<table>\n",
       "<thead><tr><th></th><th scope=col>0</th><th scope=col>1</th></tr></thead>\n",
       "<tbody>\n",
       "\t<tr><th scope=row>4</th><td>0.4963373</td><td>0.5036627</td></tr>\n",
       "\t<tr><th scope=row>5</th><td>0.6139320</td><td>0.3860680</td></tr>\n",
       "\t<tr><th scope=row>8</th><td>0.7021204</td><td>0.2978796</td></tr>\n",
       "\t<tr><th scope=row>11</th><td>0.8108364</td><td>0.1891636</td></tr>\n",
       "\t<tr><th scope=row>16</th><td>0.4360225</td><td>0.5639775</td></tr>\n",
       "\t<tr><th scope=row>20</th><td>0.4624242</td><td>0.5375758</td></tr>\n",
       "</tbody>\n",
       "</table>\n"
      ],
      "text/latex": [
       "\\begin{tabular}{r|ll}\n",
       "  & 0 & 1\\\\\n",
       "\\hline\n",
       "\t4 & 0.4963373 & 0.5036627\\\\\n",
       "\t5 & 0.6139320 & 0.3860680\\\\\n",
       "\t8 & 0.7021204 & 0.2978796\\\\\n",
       "\t11 & 0.8108364 & 0.1891636\\\\\n",
       "\t16 & 0.4360225 & 0.5639775\\\\\n",
       "\t20 & 0.4624242 & 0.5375758\\\\\n",
       "\\end{tabular}\n"
      ],
      "text/markdown": [
       "\n",
       "| <!--/--> | 0 | 1 |\n",
       "|---|---|---|\n",
       "| 4 | 0.4963373 | 0.5036627 |\n",
       "| 5 | 0.6139320 | 0.3860680 |\n",
       "| 8 | 0.7021204 | 0.2978796 |\n",
       "| 11 | 0.8108364 | 0.1891636 |\n",
       "| 16 | 0.4360225 | 0.5639775 |\n",
       "| 20 | 0.4624242 | 0.5375758 |\n",
       "\n"
      ],
      "text/plain": [
       "   0         1        \n",
       "4  0.4963373 0.5036627\n",
       "5  0.6139320 0.3860680\n",
       "8  0.7021204 0.2978796\n",
       "11 0.8108364 0.1891636\n",
       "16 0.4360225 0.5639775\n",
       "20 0.4624242 0.5375758"
      ]
     },
     "metadata": {},
     "output_type": "display_data"
    }
   ],
   "source": [
    "LDA_pred = predict(LDA, newdata = testing)\n",
    "names(LDA_pred)\n",
    "head(LDA_pred$posterior)"
   ]
  },
  {
   "cell_type": "markdown",
   "id": "5b8f0a75",
   "metadata": {},
   "source": [
    "Confusion matrix results."
   ]
  },
  {
   "cell_type": "code",
   "execution_count": 110,
   "id": "65adfd98",
   "metadata": {},
   "outputs": [
    {
     "data": {
      "text/html": [
       "<dl class=dl-horizontal>\n",
       "\t<dt>sens</dt>\n",
       "\t\t<dd>0.6</dd>\n",
       "\t<dt>spec</dt>\n",
       "\t\t<dd>0.6</dd>\n",
       "\t<dt>acc</dt>\n",
       "\t\t<dd>0.6</dd>\n",
       "</dl>\n"
      ],
      "text/latex": [
       "\\begin{description*}\n",
       "\\item[sens] 0.6\n",
       "\\item[spec] 0.6\n",
       "\\item[acc] 0.6\n",
       "\\end{description*}\n"
      ],
      "text/markdown": [
       "sens\n",
       ":   0.6spec\n",
       ":   0.6acc\n",
       ":   0.6\n",
       "\n"
      ],
      "text/plain": [
       "sens spec  acc \n",
       " 0.6  0.6  0.6 "
      ]
     },
     "metadata": {},
     "output_type": "display_data"
    }
   ],
   "source": [
    "perf_indexes = function(cm){\n",
    " sensitivity = cm[2,2] / (cm[1,2] + cm[2,2])\n",
    " specificity = cm[1,1] / (cm[1,1] + cm[2,1])\n",
    " accuracy = sum(diag(cm)) / sum(cm)\n",
    " return(c(sens=sensitivity,spec=specificity,acc=accuracy))\n",
    "}\n",
    "perf_indexes(table(LDA_pred$class, testing$class))"
   ]
  },
  {
   "cell_type": "markdown",
   "id": "f85acd5b",
   "metadata": {},
   "source": [
    "**Conclusions**\n",
    "\n",
    "The model's prediction accuracy is approximately 60%.\n",
    "\n",
    "Specificity indicates the model's ability to predict true negatives in each available category by 60%.\n",
    "\n",
    "Sensitivity indicates the model's ability to predict true positives in each available category by 60%."
   ]
  }
 ],
 "metadata": {
  "kernelspec": {
   "display_name": "R",
   "language": "R",
   "name": "ir"
  },
  "language_info": {
   "codemirror_mode": "r",
   "file_extension": ".r",
   "mimetype": "text/x-r-source",
   "name": "R",
   "pygments_lexer": "r",
   "version": "3.6.1"
  }
 },
 "nbformat": 4,
 "nbformat_minor": 5
}
