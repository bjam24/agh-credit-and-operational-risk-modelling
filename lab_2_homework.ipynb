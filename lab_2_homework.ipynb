{
 "cells": [
  {
   "cell_type": "markdown",
   "id": "eea032db",
   "metadata": {},
   "source": [
    "# Laboratory 2 - Models in credit and operational risk\n",
    "**Bartłomiej Jamiołkowski 11.03.2022**"
   ]
  },
  {
   "cell_type": "markdown",
   "id": "76709499",
   "metadata": {},
   "source": [
    "## Exercise 1"
   ]
  },
  {
   "cell_type": "markdown",
   "id": "4983f7e9",
   "metadata": {},
   "source": [
    "**What are the differences in applying the standard method under Basel I and Basel II?**"
   ]
  },
  {
   "cell_type": "markdown",
   "id": "a78ee0da",
   "metadata": {},
   "source": [
    "The book 'Risk Management and Financial Institutions' by John C. Hull indicates that the difference between using the standard method according to Basel I and Basel II is the way of calculating risk weights. The new rules have a more specific weighting and the status of some institutions is not taken into account in the same way as in the past."
   ]
  },
  {
   "cell_type": "markdown",
   "id": "d32f8349",
   "metadata": {},
   "source": [
    "**How the IRB method works (Vasicek model)**"
   ]
  },
  {
   "cell_type": "markdown",
   "id": "38e610f0",
   "metadata": {},
   "source": [
    "Based on the book 'Risk Management and Financial Institutions' by John C. Hull, the IRB method can be described in the following steps. The required capital is calculated as the difference between the annual 99.9% VaR and the expected loss. It is written as the sum of the products EADi * LGDi * (WCDRi − PDi) * MA, where EAD is the risk of default, LGD is the loss in the event of default, WCDR is the interest on outstanding loans, and PD is the probability of default.\n",
    "The correlations for determining some of these quantities can either be read from the table or calculated using formulas."
   ]
  },
  {
   "cell_type": "markdown",
   "id": "391fc83f",
   "metadata": {},
   "source": [
    "## Exercise 2"
   ]
  },
  {
   "cell_type": "markdown",
   "id": "e191644f",
   "metadata": {},
   "source": [
    "In the capital calculation task, weighting tables 15.1 and 15.4 from the book 'Risk Management and Financial Institutions' by John C. Hull are used."
   ]
  },
  {
   "cell_type": "markdown",
   "id": "9a6ece55",
   "metadata": {},
   "source": [
    "**Basel I**"
   ]
  },
  {
   "cell_type": "markdown",
   "id": "f9a46d7b",
   "metadata": {},
   "source": [
    "Risk-weighted capital."
   ]
  },
  {
   "cell_type": "code",
   "execution_count": 1,
   "id": "e911f289",
   "metadata": {},
   "outputs": [
    {
     "name": "stdout",
     "output_type": "stream",
     "text": [
      "[1] \"120000000$\"\n"
     ]
    }
   ],
   "source": [
    "options(\"scipen\"= 100, \"digits\"= 4) \n",
    "risk_weighted_assets_1 = (200*0.0 + 100*0.2 + 100*1.0)* 1000000\n",
    "print(paste0(risk_weighted_assets_1, \"$\"))"
   ]
  },
  {
   "cell_type": "markdown",
   "id": "d3984ee9",
   "metadata": {},
   "source": [
    "Allowance for potential losses."
   ]
  },
  {
   "cell_type": "code",
   "execution_count": 2,
   "id": "557306c3",
   "metadata": {},
   "outputs": [
    {
     "name": "stdout",
     "output_type": "stream",
     "text": [
      "[1] \"9600000$\"\n"
     ]
    }
   ],
   "source": [
    "write_off_1 = 0.08* risk_weighted_assets_1 \n",
    "print(paste0(write_off_1, \"$\"))"
   ]
  },
  {
   "cell_type": "markdown",
   "id": "d5500b03",
   "metadata": {},
   "source": [
    "**Basel II**"
   ]
  },
  {
   "cell_type": "markdown",
   "id": "d47e957f",
   "metadata": {},
   "source": [
    "Capital calculated using the standard method."
   ]
  },
  {
   "cell_type": "code",
   "execution_count": 3,
   "id": "faec4bf0",
   "metadata": {},
   "outputs": [
    {
     "name": "stdout",
     "output_type": "stream",
     "text": [
      "[1] \"115000000$\"\n"
     ]
    }
   ],
   "source": [
    "risk_weighted_assets_2 = (200*(0.4*0.0 + 0.4*0.2 + 0.2*0.5) + 100*(0.5*0.2 + 0.3*0.5 + 0.1*1.0 + 0.1*0.5) + \n",
    "100*(0.2*0.2 + 0.3*0.5 + 0.2*1.0))* 1000000\n",
    "print(paste0(risk_weighted_assets_2, \"$\"))"
   ]
  },
  {
   "cell_type": "markdown",
   "id": "0df6522c",
   "metadata": {},
   "source": [
    "Allowance for potential losses."
   ]
  },
  {
   "cell_type": "code",
   "execution_count": 4,
   "id": "5863216f",
   "metadata": {},
   "outputs": [
    {
     "name": "stdout",
     "output_type": "stream",
     "text": [
      "[1] \"9200000$\"\n"
     ]
    }
   ],
   "source": [
    "write_off_2 = 0.08* risk_weighted_assets_2 \n",
    "print(paste0(write_off_2, \"$\"))"
   ]
  },
  {
   "cell_type": "markdown",
   "id": "cd4568ac",
   "metadata": {},
   "source": [
    "## Exercise 3"
   ]
  },
  {
   "cell_type": "markdown",
   "id": "2a4e87ce",
   "metadata": {},
   "source": [
    "Individual mortgage loans."
   ]
  },
  {
   "cell_type": "code",
   "execution_count": 5,
   "id": "9bdcae41",
   "metadata": {},
   "outputs": [
    {
     "name": "stdout",
     "output_type": "stream",
     "text": [
      "[1] \"4.35 mln $\"\n"
     ]
    }
   ],
   "source": [
    "PD = 0.005 \n",
    "correlation = 0.15 # korelacja dla kredytu hipotecznego (prezentacja)\n",
    "WCDR = 0.063 # tabela w prezentacji\n",
    "M = 1\n",
    "MA = 1 \n",
    "b = (0.11852 − 0.054781*log(PD))^2\n",
    "LGD = 0.3 # strata na wypadek niewypłacalności\n",
    "RWA1 = 12.5*20*LGD*(WCDR - PD)\n",
    "print(paste0(RWA1, \" mln $\"))"
   ]
  },
  {
   "cell_type": "markdown",
   "id": "5a1f92d0",
   "metadata": {},
   "source": [
    "Loans for companies."
   ]
  },
  {
   "cell_type": "code",
   "execution_count": 6,
   "id": "f7efb01a",
   "metadata": {},
   "outputs": [
    {
     "name": "stdout",
     "output_type": "stream",
     "text": [
      "[1] \"451.030784142568 mln $\"\n"
     ]
    }
   ],
   "source": [
    "PD = 0.0075 # prawdopodobieństwo niewypłacalności\n",
    "M = 2 # zapadalność 2-letnia\n",
    "LGD = 0.6 # strata na wypadek niewypłacalności\n",
    "N = 3\n",
    "correlation = 0.12*(1 + exp(-50*PD)) # związek miedzy PD a korelacją wedlug nowej formuły\n",
    "WCDR = N*((PD/N + sqrt(correlation)/N*0.999)/sqrt(1 - correlation)) # odsetek niespłaconych kredytów w ciągu roku\n",
    "b = (0.11852 − 0.054781*log(PD))^2\n",
    "MA = (1 + b*(M - 2.5))/(1 - 1.5*b) # korekta\n",
    "RWA2 = 12.5*100*LGD*(WCDR - PD)*MA\n",
    "print(paste0(RWA2, \" mln $\"))"
   ]
  },
  {
   "cell_type": "markdown",
   "id": "e2e3667d",
   "metadata": {},
   "source": [
    "Loans for companies."
   ]
  },
  {
   "cell_type": "code",
   "execution_count": 7,
   "id": "7d8d7952",
   "metadata": {},
   "outputs": [
    {
     "name": "stdout",
     "output_type": "stream",
     "text": [
      "[1] \"199.990723987108 mln $\"\n"
     ]
    }
   ],
   "source": [
    "PD = 0.025 # prawdopodobieństwo niewypłacalności\n",
    "M = 3 # zapadalność 3-letnia\n",
    "LGD = 0.6 # strata na wypadek niewypłacalności\n",
    "N = 3 \n",
    "correlation = 0.12*(1 + exp(-50*PD)) # związek miedzy PD a korelacją wedlug nowej formuły\n",
    "WCDR = N*((PD/N + sqrt(correlation)/N*0.999)/sqrt(1 - correlation)) # odsetek niespłaconych kredytów w ciągu roku\n",
    "b = (0.11852 − 0.054781*log(PD))^2\n",
    "MA = (1 + b*(M - 2.5))/(1 - 1.5*b) # korekta\n",
    "RWA3 = 12.5*50*LGD*(WCDR - PD)*MA\n",
    "print(paste0(RWA3, \" mln $\"))"
   ]
  },
  {
   "cell_type": "markdown",
   "id": "72e8e4c3",
   "metadata": {},
   "source": [
    "Total RWA for a bank that has three baskets of loans."
   ]
  },
  {
   "cell_type": "code",
   "execution_count": 8,
   "id": "8f1708d8",
   "metadata": {},
   "outputs": [
    {
     "name": "stdout",
     "output_type": "stream",
     "text": [
      "[1] \"655.371508129676 mln $\"\n"
     ]
    }
   ],
   "source": [
    "RWA = RWA1 + RWA2 + RWA3\n",
    "print(paste0(RWA, \" mln $\"))"
   ]
  },
  {
   "cell_type": "markdown",
   "id": "228a33b3",
   "metadata": {},
   "source": [
    "## Exercise 4"
   ]
  },
  {
   "cell_type": "markdown",
   "id": "718ffcaf",
   "metadata": {},
   "source": [
    "Libraries used."
   ]
  },
  {
   "cell_type": "code",
   "execution_count": 18,
   "id": "eed5812d",
   "metadata": {},
   "outputs": [],
   "source": [
    "options(warn=-1)\n",
    "library(readxl)\n",
    "library(dplyr)\n",
    "library(extraoperators)"
   ]
  },
  {
   "cell_type": "markdown",
   "id": "e277e384",
   "metadata": {},
   "source": [
    "Data import."
   ]
  },
  {
   "cell_type": "code",
   "execution_count": 10,
   "id": "0ac286ef",
   "metadata": {},
   "outputs": [],
   "source": [
    "credits_data <- read_excel(\"vasicek.xlsx\", sheet = \"Arkusz1\")"
   ]
  },
  {
   "cell_type": "markdown",
   "id": "4f24cd89",
   "metadata": {},
   "source": [
    "Categorization of the PD variable."
   ]
  },
  {
   "cell_type": "code",
   "execution_count": 11,
   "id": "fef5b270",
   "metadata": {},
   "outputs": [],
   "source": [
    "credits_data[, \"groups\"] <- cut(credits_data$PD, breaks = 5, labels = c(\"Group1\", \"Group2\", \"Group3\", \"Group4\", \"Group5\"))"
   ]
  },
  {
   "cell_type": "markdown",
   "id": "12077783",
   "metadata": {},
   "source": [
    "EAD summation by assigned category."
   ]
  },
  {
   "cell_type": "code",
   "execution_count": 12,
   "id": "4a58b3fe",
   "metadata": {},
   "outputs": [
    {
     "data": {
      "text/html": [
       "<ol class=list-inline>\n",
       "\t<li>1725000</li>\n",
       "\t<li>1300000</li>\n",
       "\t<li>815000</li>\n",
       "\t<li>490000</li>\n",
       "\t<li>665000</li>\n",
       "</ol>\n"
      ],
      "text/latex": [
       "\\begin{enumerate*}\n",
       "\\item 1725000\n",
       "\\item 1300000\n",
       "\\item 815000\n",
       "\\item 490000\n",
       "\\item 665000\n",
       "\\end{enumerate*}\n"
      ],
      "text/markdown": [
       "1. 1725000\n",
       "2. 1300000\n",
       "3. 815000\n",
       "4. 490000\n",
       "5. 665000\n",
       "\n",
       "\n"
      ],
      "text/plain": [
       "[1] 1725000 1300000  815000  490000  665000"
      ]
     },
     "metadata": {},
     "output_type": "display_data"
    }
   ],
   "source": [
    "EAD_list = aggregate(credits_data$EAD, list(credits_data$groups), FUN=sum)  \n",
    "EAD_list = EAD_list$x\n",
    "EAD_list"
   ]
  },
  {
   "cell_type": "markdown",
   "id": "52dfe0a3",
   "metadata": {},
   "source": [
    "Creating a column with weights and then calculating the weighted average LGD for each category."
   ]
  },
  {
   "cell_type": "code",
   "execution_count": 13,
   "id": "099ed2ca",
   "metadata": {},
   "outputs": [],
   "source": [
    "weights <- c(3, 4, 5, 6)\n",
    "credits_data[, \"weights\"] <- NA\n",
    "for(i in 1:length(credits_data$LGD)){\n",
    "    if(credits_data$LGD[i] %gele% c(0.30, 0.39)){\n",
    "        credits_data$weights[i] = 1\n",
    "    }\n",
    "    else if(credits_data$LGD[i] %gele% c(0.40, 0.49)){\n",
    "        credits_data$weights[i] = 2\n",
    "    }\n",
    "    else if(credits_data$LGD[i] %gele% c(0.50, 0.59)){\n",
    "        credits_data$weights[i] = 3\n",
    "    }\n",
    "    else if(credits_data$LGD[i] %gele% c(0.60, 0.69)){\n",
    "        credits_data$weights[i] = 4\n",
    "    }\n",
    "}\n",
    "weighted_average_LGD <- credits_data %>%                                           # Weighted mean by group\n",
    "                           group_by(groups) %>% \n",
    "                           summarise(weighted.mean(LGD, weights))\n",
    "colnames(weighted_average_LGD) <- c(\"PD\", \"WA\")\n",
    "weighted_average_LGD <- weighted_average_LGD$WA"
   ]
  },
  {
   "cell_type": "code",
   "execution_count": 14,
   "id": "ec9ed06d",
   "metadata": {},
   "outputs": [
    {
     "data": {
      "text/html": [
       "<ol class=list-inline>\n",
       "\t<li>0.502045454545455</li>\n",
       "\t<li>0.5</li>\n",
       "\t<li>0.541304347826087</li>\n",
       "\t<li>0.495</li>\n",
       "\t<li>0.452222222222222</li>\n",
       "</ol>\n"
      ],
      "text/latex": [
       "\\begin{enumerate*}\n",
       "\\item 0.502045454545455\n",
       "\\item 0.5\n",
       "\\item 0.541304347826087\n",
       "\\item 0.495\n",
       "\\item 0.452222222222222\n",
       "\\end{enumerate*}\n"
      ],
      "text/markdown": [
       "1. 0.502045454545455\n",
       "2. 0.5\n",
       "3. 0.541304347826087\n",
       "4. 0.495\n",
       "5. 0.452222222222222\n",
       "\n",
       "\n"
      ],
      "text/plain": [
       "[1] 0.5020 0.5000 0.5413 0.4950 0.4522"
      ]
     },
     "metadata": {},
     "output_type": "display_data"
    }
   ],
   "source": [
    "weighted_average_LGD"
   ]
  },
  {
   "cell_type": "markdown",
   "id": "c3aa6f9d",
   "metadata": {},
   "source": [
    "PD sum by category."
   ]
  },
  {
   "cell_type": "code",
   "execution_count": 15,
   "id": "088b1e5d",
   "metadata": {},
   "outputs": [
    {
     "data": {
      "text/html": [
       "<ol class=list-inline>\n",
       "\t<li>0.0815977717441274</li>\n",
       "\t<li>0.198718732968264</li>\n",
       "\t<li>0.188218896356411</li>\n",
       "\t<li>0.123811391959898</li>\n",
       "\t<li>0.214259108714759</li>\n",
       "</ol>\n"
      ],
      "text/latex": [
       "\\begin{enumerate*}\n",
       "\\item 0.0815977717441274\n",
       "\\item 0.198718732968264\n",
       "\\item 0.188218896356411\n",
       "\\item 0.123811391959898\n",
       "\\item 0.214259108714759\n",
       "\\end{enumerate*}\n"
      ],
      "text/markdown": [
       "1. 0.0815977717441274\n",
       "2. 0.198718732968264\n",
       "3. 0.188218896356411\n",
       "4. 0.123811391959898\n",
       "5. 0.214259108714759\n",
       "\n",
       "\n"
      ],
      "text/plain": [
       "[1] 0.0816 0.1987 0.1882 0.1238 0.2143"
      ]
     },
     "metadata": {},
     "output_type": "display_data"
    }
   ],
   "source": [
    "PD_list = aggregate(credits_data$PD, list(credits_data$groups), FUN=sum)\n",
    "PD_list = PD_list$x\n",
    "PD_list"
   ]
  },
  {
   "cell_type": "markdown",
   "id": "e94040d1",
   "metadata": {},
   "source": [
    "Calculation of WCDR and RWA for individual categories."
   ]
  },
  {
   "cell_type": "code",
   "execution_count": 16,
   "id": "bd8df679",
   "metadata": {},
   "outputs": [
    {
     "data": {
      "text/html": [
       "<ol class=list-inline>\n",
       "\t<li>4091193.32122701</li>\n",
       "\t<li>3116709.78331564</li>\n",
       "\t<li>1950430.7169988</li>\n",
       "\t<li>1160899.83336751</li>\n",
       "\t<li>1598573.17411962</li>\n",
       "</ol>\n"
      ],
      "text/latex": [
       "\\begin{enumerate*}\n",
       "\\item 4091193.32122701\n",
       "\\item 3116709.78331564\n",
       "\\item 1950430.7169988\n",
       "\\item 1160899.83336751\n",
       "\\item 1598573.17411962\n",
       "\\end{enumerate*}\n"
      ],
      "text/markdown": [
       "1. 4091193.32122701\n",
       "2. 3116709.78331564\n",
       "3. 1950430.7169988\n",
       "4. 1160899.83336751\n",
       "5. 1598573.17411962\n",
       "\n",
       "\n"
      ],
      "text/plain": [
       "[1] 4091193 3116710 1950431 1160900 1598573"
      ]
     },
     "metadata": {},
     "output_type": "display_data"
    }
   ],
   "source": [
    "WCDR_list <- c(NA, NA, NA, NA, NA)\n",
    "RWA_list <- c(NA, NA, NA, NA, NA)\n",
    "for(i in 1:5){\n",
    "    correlation = 0.12*(1 + exp(-50*PD_list[i]))\n",
    "    WCDR_list[i] = 5*((PD_list[i]/5 + sqrt(correlation)/5*0.999)/sqrt(1 - correlation)) \n",
    "    RWA_list[i] = 12.5*weighted_average_LGD[1]*EAD_list[i]*(WCDR_list[i] - PD_list[i])\n",
    "}\n",
    "RWA_list"
   ]
  },
  {
   "cell_type": "markdown",
   "id": "2194358a",
   "metadata": {},
   "source": [
    "Calculation of the RWA link."
   ]
  },
  {
   "cell_type": "code",
   "execution_count": 17,
   "id": "ff935c3c",
   "metadata": {},
   "outputs": [
    {
     "name": "stdout",
     "output_type": "stream",
     "text": [
      "[1] \"11917806.83$\"\n"
     ]
    }
   ],
   "source": [
    "RWA = sum(RWA_list)\n",
    "print(paste0(round(RWA, digits = 2), \"$\"))"
   ]
  }
 ],
 "metadata": {
  "kernelspec": {
   "display_name": "R",
   "language": "R",
   "name": "ir"
  },
  "language_info": {
   "codemirror_mode": "r",
   "file_extension": ".r",
   "mimetype": "text/x-r-source",
   "name": "R",
   "pygments_lexer": "r",
   "version": "3.6.1"
  }
 },
 "nbformat": 4,
 "nbformat_minor": 5
}
