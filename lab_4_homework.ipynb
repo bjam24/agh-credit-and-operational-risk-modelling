{
 "cells": [
  {
   "cell_type": "markdown",
   "id": "d30576c4",
   "metadata": {},
   "source": [
    "## Laboratory 4 - Models in credit and operational risk\n",
    "**Bartłomiej Jamiołkowski 04.04.2022**"
   ]
  },
  {
   "cell_type": "markdown",
   "id": "4beed743",
   "metadata": {},
   "source": [
    "## Exercise 1"
   ]
  },
  {
   "cell_type": "markdown",
   "id": "bb1b700a",
   "metadata": {},
   "source": [
    "**What events that may cause losses do we consider as part of operational risk?**"
   ]
  },
  {
   "cell_type": "markdown",
   "id": "b84e5ef1",
   "metadata": {},
   "source": [
    "As part of operational risk, losses may occur as a result of the following events:\n",
    "\n",
    "- theft of property or information;\n",
    "- robbery;\n",
    "- physical and computer hacking;\n",
    "- discrimination of employees;\n",
    "- occupational health and safety violations resulting in accidents;\n",
    "- salary claim;\n",
    "- disclosure of customers' personal data;\n",
    "- aggressive trading strategy to maximize commissions;\n",
    "- incorrect assessment of the customer's profile;\n",
    "- incorrectly constructed templates, contracts, regulations;\n",
    "- physical destruction of assets as a result of random events;\n",
    "- acts of vandalism or terrorism;\n",
    "- software errors;\n",
    "- equipment malfunction;\n",
    "- telecommunications problems;\n",
    "- errors when entering data into the system;\n",
    "- errors in the execution, settlement and processing of transactions;\n",
    "- negligence in monitoring and reporting;\n",
    "- improper management of customer accounts."
   ]
  },
  {
   "cell_type": "markdown",
   "id": "08a7a7f1",
   "metadata": {},
   "source": [
    "**Explain the difference between the following operational risk assessment approaches: BIA, TSA and AMA.**"
   ]
  },
  {
   "cell_type": "markdown",
   "id": "d8f9e6f6",
   "metadata": {},
   "source": [
    "The difference between the BIA, TSA and AMA approaches to operational risk is visible in several areas:\n",
    "- the largest banks are obliged to use only the AMA method, which means that these methods are not interchangeable in some institutions;\n",
    "- calculation of required capital. In the case of the base indicator method, it is calculated as 15% of the average of the net positive interest and non-interest results from the previous 3 years. A different approach is presented by the standard method, where the required capital is determined as the sum of the results from 8 business lines weighted by coefficients. The advanced measurement method is different, which takes into account 7 categories of events for up to 8 business lines, creating 56 risk areas used to calculate the operational value at risk;\n",
    "- TSA does not take into account a negative total score."
   ]
  },
  {
   "cell_type": "markdown",
   "id": "c043d90c",
   "metadata": {},
   "source": [
    "**What is the LDA method, which is used as part of the advanced measurement method for operational risk?**"
   ]
  },
  {
   "cell_type": "markdown",
   "id": "4d6a2da1",
   "metadata": {},
   "source": [
    "The LDA (Loss Distribution Approach) method involves modeling the observed distribution of losses in order to predict the range of potential future losses. It consists of the following processes:\n",
    "- estimation of the severity of losses;\n",
    "- estimation of loss frequency;\n",
    "- calculation of capital charge;\n",
    "- calculation of confidence interval;"
   ]
  },
  {
   "cell_type": "markdown",
   "id": "0d23f003",
   "metadata": {},
   "source": [
    "## Exercise 2"
   ]
  },
  {
   "cell_type": "markdown",
   "id": "18a9890e",
   "metadata": {},
   "source": [
    "**Libraries used**"
   ]
  },
  {
   "cell_type": "code",
   "execution_count": 10,
   "id": "b3dd30c1",
   "metadata": {},
   "outputs": [],
   "source": [
    "options(warn=-1)\n",
    "library(\"readxl\")\n",
    "library(\"nortest\")\n",
    "library(\"ptsuite\")\n",
    "library('lubridate')\n",
    "library('ggplot2')"
   ]
  },
  {
   "cell_type": "markdown",
   "id": "7f3306ab",
   "metadata": {},
   "source": [
    "**Data import**"
   ]
  },
  {
   "cell_type": "code",
   "execution_count": 11,
   "id": "d7eee08e",
   "metadata": {},
   "outputs": [],
   "source": [
    "basel_op <-  read_excel(\"BaselOP.xlsx\")"
   ]
  },
  {
   "cell_type": "code",
   "execution_count": 12,
   "id": "022cf91d",
   "metadata": {},
   "outputs": [
    {
     "data": {
      "text/html": [
       "<table>\n",
       "<thead><tr><th scope=col>ID</th><th scope=col>Date</th><th scope=col>Business Line</th><th scope=col>Risk Category</th><th scope=col>Gross Loss Amount</th><th scope=col>Recovery Amount</th></tr></thead>\n",
       "<tbody>\n",
       "\t<tr><td>1         </td><td>03/01/2009</td><td>AG        </td><td>CPBP      </td><td> 8045.29  </td><td> 6926.03  </td></tr>\n",
       "\t<tr><td>2         </td><td>06/01/2009</td><td>CB        </td><td>CPBP      </td><td> 6689.97  </td><td> 5933.89  </td></tr>\n",
       "\t<tr><td>3         </td><td>11/01/2009</td><td>AG        </td><td>CPBP      </td><td>32965.18  </td><td>24815.44  </td></tr>\n",
       "\t<tr><td>4         </td><td>11/01/2009</td><td>AG        </td><td>CPBP      </td><td>17775.68  </td><td>15029.16  </td></tr>\n",
       "\t<tr><td>5         </td><td>12/01/2009</td><td>RBR       </td><td>EDPM      </td><td>  767.43  </td><td>  767.43  </td></tr>\n",
       "\t<tr><td>6         </td><td>14/01/2009</td><td>AG        </td><td>CPBP      </td><td>41426.22  </td><td>34513.52  </td></tr>\n",
       "</tbody>\n",
       "</table>\n"
      ],
      "text/latex": [
       "\\begin{tabular}{r|llllll}\n",
       " ID & Date & Business Line & Risk Category & Gross Loss Amount & Recovery Amount\\\\\n",
       "\\hline\n",
       "\t 1          & 03/01/2009 & AG         & CPBP       &  8045.29   &  6926.03  \\\\\n",
       "\t 2          & 06/01/2009 & CB         & CPBP       &  6689.97   &  5933.89  \\\\\n",
       "\t 3          & 11/01/2009 & AG         & CPBP       & 32965.18   & 24815.44  \\\\\n",
       "\t 4          & 11/01/2009 & AG         & CPBP       & 17775.68   & 15029.16  \\\\\n",
       "\t 5          & 12/01/2009 & RBR        & EDPM       &   767.43   &   767.43  \\\\\n",
       "\t 6          & 14/01/2009 & AG         & CPBP       & 41426.22   & 34513.52  \\\\\n",
       "\\end{tabular}\n"
      ],
      "text/markdown": [
       "\n",
       "| ID | Date | Business Line | Risk Category | Gross Loss Amount | Recovery Amount |\n",
       "|---|---|---|---|---|---|\n",
       "| 1          | 03/01/2009 | AG         | CPBP       |  8045.29   |  6926.03   |\n",
       "| 2          | 06/01/2009 | CB         | CPBP       |  6689.97   |  5933.89   |\n",
       "| 3          | 11/01/2009 | AG         | CPBP       | 32965.18   | 24815.44   |\n",
       "| 4          | 11/01/2009 | AG         | CPBP       | 17775.68   | 15029.16   |\n",
       "| 5          | 12/01/2009 | RBR        | EDPM       |   767.43   |   767.43   |\n",
       "| 6          | 14/01/2009 | AG         | CPBP       | 41426.22   | 34513.52   |\n",
       "\n"
      ],
      "text/plain": [
       "  ID Date       Business Line Risk Category Gross Loss Amount Recovery Amount\n",
       "1 1  03/01/2009 AG            CPBP           8045.29           6926.03       \n",
       "2 2  06/01/2009 CB            CPBP           6689.97           5933.89       \n",
       "3 3  11/01/2009 AG            CPBP          32965.18          24815.44       \n",
       "4 4  11/01/2009 AG            CPBP          17775.68          15029.16       \n",
       "5 5  12/01/2009 RBR           EDPM            767.43            767.43       \n",
       "6 6  14/01/2009 AG            CPBP          41426.22          34513.52       "
      ]
     },
     "metadata": {},
     "output_type": "display_data"
    }
   ],
   "source": [
    "head(basel_op)"
   ]
  },
  {
   "cell_type": "markdown",
   "id": "87d373b2",
   "metadata": {},
   "source": [
    "**Selection of PS business line**"
   ]
  },
  {
   "cell_type": "code",
   "execution_count": 13,
   "id": "c32abd15",
   "metadata": {},
   "outputs": [],
   "source": [
    "ps_basel_op <- basel_op[which(basel_op$'Business Line' == 'PS'),]"
   ]
  },
  {
   "cell_type": "code",
   "execution_count": 14,
   "id": "9a833c4e",
   "metadata": {},
   "outputs": [
    {
     "data": {
      "text/html": [
       "<table>\n",
       "<thead><tr><th scope=col>ID</th><th scope=col>Date</th><th scope=col>Business Line</th><th scope=col>Risk Category</th><th scope=col>Gross Loss Amount</th><th scope=col>Recovery Amount</th></tr></thead>\n",
       "<tbody>\n",
       "\t<tr><td>23        </td><td>08/02/2009</td><td>PS        </td><td>DPA       </td><td>12716.87  </td><td>10148.41  </td></tr>\n",
       "\t<tr><td>28        </td><td>16/02/2009</td><td>PS        </td><td>EPWS      </td><td> 2623.35  </td><td> 2468.11  </td></tr>\n",
       "\t<tr><td>30        </td><td>17/02/2009</td><td>PS        </td><td>IF        </td><td>54797.76  </td><td>36427.16  </td></tr>\n",
       "\t<tr><td>38        </td><td>28/02/2009</td><td>PS        </td><td>DPA       </td><td> 3781.29  </td><td> 3290.28  </td></tr>\n",
       "\t<tr><td>42        </td><td>05/03/2009</td><td>PS        </td><td>DPA       </td><td>28302.43  </td><td>21642.07  </td></tr>\n",
       "\t<tr><td>45        </td><td>07/03/2009</td><td>PS        </td><td>DPA       </td><td> 5574.01  </td><td> 5054.74  </td></tr>\n",
       "</tbody>\n",
       "</table>\n"
      ],
      "text/latex": [
       "\\begin{tabular}{r|llllll}\n",
       " ID & Date & Business Line & Risk Category & Gross Loss Amount & Recovery Amount\\\\\n",
       "\\hline\n",
       "\t 23         & 08/02/2009 & PS         & DPA        & 12716.87   & 10148.41  \\\\\n",
       "\t 28         & 16/02/2009 & PS         & EPWS       &  2623.35   &  2468.11  \\\\\n",
       "\t 30         & 17/02/2009 & PS         & IF         & 54797.76   & 36427.16  \\\\\n",
       "\t 38         & 28/02/2009 & PS         & DPA        &  3781.29   &  3290.28  \\\\\n",
       "\t 42         & 05/03/2009 & PS         & DPA        & 28302.43   & 21642.07  \\\\\n",
       "\t 45         & 07/03/2009 & PS         & DPA        &  5574.01   &  5054.74  \\\\\n",
       "\\end{tabular}\n"
      ],
      "text/markdown": [
       "\n",
       "| ID | Date | Business Line | Risk Category | Gross Loss Amount | Recovery Amount |\n",
       "|---|---|---|---|---|---|\n",
       "| 23         | 08/02/2009 | PS         | DPA        | 12716.87   | 10148.41   |\n",
       "| 28         | 16/02/2009 | PS         | EPWS       |  2623.35   |  2468.11   |\n",
       "| 30         | 17/02/2009 | PS         | IF         | 54797.76   | 36427.16   |\n",
       "| 38         | 28/02/2009 | PS         | DPA        |  3781.29   |  3290.28   |\n",
       "| 42         | 05/03/2009 | PS         | DPA        | 28302.43   | 21642.07   |\n",
       "| 45         | 07/03/2009 | PS         | DPA        |  5574.01   |  5054.74   |\n",
       "\n"
      ],
      "text/plain": [
       "  ID Date       Business Line Risk Category Gross Loss Amount Recovery Amount\n",
       "1 23 08/02/2009 PS            DPA           12716.87          10148.41       \n",
       "2 28 16/02/2009 PS            EPWS           2623.35           2468.11       \n",
       "3 30 17/02/2009 PS            IF            54797.76          36427.16       \n",
       "4 38 28/02/2009 PS            DPA            3781.29           3290.28       \n",
       "5 42 05/03/2009 PS            DPA           28302.43          21642.07       \n",
       "6 45 07/03/2009 PS            DPA            5574.01           5054.74       "
      ]
     },
     "metadata": {},
     "output_type": "display_data"
    }
   ],
   "source": [
    "head(ps_basel_op)"
   ]
  },
  {
   "cell_type": "markdown",
   "id": "165ed892",
   "metadata": {},
   "source": [
    "**Determination of net start (Net loss)**"
   ]
  },
  {
   "cell_type": "code",
   "execution_count": 15,
   "id": "202c8a8a",
   "metadata": {},
   "outputs": [],
   "source": [
    "ps_basel_op[\"Net Loss\"] <- rep(NA, length(ps_basel_op$ID))\n",
    "for(i in 1:length(ps_basel_op$ID)){\n",
    "    ps_basel_op$'Net Loss'[i] = ps_basel_op$'Gross Loss Amount'[i] - ps_basel_op$'Recovery Amount'[i]\n",
    "}"
   ]
  },
  {
   "cell_type": "code",
   "execution_count": 16,
   "id": "10f973e4",
   "metadata": {},
   "outputs": [
    {
     "data": {
      "text/html": [
       "<table>\n",
       "<thead><tr><th scope=col>ID</th><th scope=col>Date</th><th scope=col>Business Line</th><th scope=col>Risk Category</th><th scope=col>Gross Loss Amount</th><th scope=col>Recovery Amount</th><th scope=col>Net Loss</th></tr></thead>\n",
       "<tbody>\n",
       "\t<tr><td>23        </td><td>08/02/2009</td><td>PS        </td><td>DPA       </td><td>12716.87  </td><td>10148.41  </td><td> 2568.46  </td></tr>\n",
       "\t<tr><td>28        </td><td>16/02/2009</td><td>PS        </td><td>EPWS      </td><td> 2623.35  </td><td> 2468.11  </td><td>  155.24  </td></tr>\n",
       "\t<tr><td>30        </td><td>17/02/2009</td><td>PS        </td><td>IF        </td><td>54797.76  </td><td>36427.16  </td><td>18370.60  </td></tr>\n",
       "\t<tr><td>38        </td><td>28/02/2009</td><td>PS        </td><td>DPA       </td><td> 3781.29  </td><td> 3290.28  </td><td>  491.01  </td></tr>\n",
       "\t<tr><td>42        </td><td>05/03/2009</td><td>PS        </td><td>DPA       </td><td>28302.43  </td><td>21642.07  </td><td> 6660.36  </td></tr>\n",
       "\t<tr><td>45        </td><td>07/03/2009</td><td>PS        </td><td>DPA       </td><td> 5574.01  </td><td> 5054.74  </td><td>  519.27  </td></tr>\n",
       "</tbody>\n",
       "</table>\n"
      ],
      "text/latex": [
       "\\begin{tabular}{r|lllllll}\n",
       " ID & Date & Business Line & Risk Category & Gross Loss Amount & Recovery Amount & Net Loss\\\\\n",
       "\\hline\n",
       "\t 23         & 08/02/2009 & PS         & DPA        & 12716.87   & 10148.41   &  2568.46  \\\\\n",
       "\t 28         & 16/02/2009 & PS         & EPWS       &  2623.35   &  2468.11   &   155.24  \\\\\n",
       "\t 30         & 17/02/2009 & PS         & IF         & 54797.76   & 36427.16   & 18370.60  \\\\\n",
       "\t 38         & 28/02/2009 & PS         & DPA        &  3781.29   &  3290.28   &   491.01  \\\\\n",
       "\t 42         & 05/03/2009 & PS         & DPA        & 28302.43   & 21642.07   &  6660.36  \\\\\n",
       "\t 45         & 07/03/2009 & PS         & DPA        &  5574.01   &  5054.74   &   519.27  \\\\\n",
       "\\end{tabular}\n"
      ],
      "text/markdown": [
       "\n",
       "| ID | Date | Business Line | Risk Category | Gross Loss Amount | Recovery Amount | Net Loss |\n",
       "|---|---|---|---|---|---|---|\n",
       "| 23         | 08/02/2009 | PS         | DPA        | 12716.87   | 10148.41   |  2568.46   |\n",
       "| 28         | 16/02/2009 | PS         | EPWS       |  2623.35   |  2468.11   |   155.24   |\n",
       "| 30         | 17/02/2009 | PS         | IF         | 54797.76   | 36427.16   | 18370.60   |\n",
       "| 38         | 28/02/2009 | PS         | DPA        |  3781.29   |  3290.28   |   491.01   |\n",
       "| 42         | 05/03/2009 | PS         | DPA        | 28302.43   | 21642.07   |  6660.36   |\n",
       "| 45         | 07/03/2009 | PS         | DPA        |  5574.01   |  5054.74   |   519.27   |\n",
       "\n"
      ],
      "text/plain": [
       "  ID Date       Business Line Risk Category Gross Loss Amount Recovery Amount\n",
       "1 23 08/02/2009 PS            DPA           12716.87          10148.41       \n",
       "2 28 16/02/2009 PS            EPWS           2623.35           2468.11       \n",
       "3 30 17/02/2009 PS            IF            54797.76          36427.16       \n",
       "4 38 28/02/2009 PS            DPA            3781.29           3290.28       \n",
       "5 42 05/03/2009 PS            DPA           28302.43          21642.07       \n",
       "6 45 07/03/2009 PS            DPA            5574.01           5054.74       \n",
       "  Net Loss\n",
       "1  2568.46\n",
       "2   155.24\n",
       "3 18370.60\n",
       "4   491.01\n",
       "5  6660.36\n",
       "6   519.27"
      ]
     },
     "metadata": {},
     "output_type": "display_data"
    }
   ],
   "source": [
    "head(ps_basel_op)"
   ]
  },
  {
   "cell_type": "markdown",
   "id": "37d17abd",
   "metadata": {},
   "source": [
    "**Loss turnout**"
   ]
  },
  {
   "cell_type": "code",
   "execution_count": 17,
   "id": "4963d0f3",
   "metadata": {},
   "outputs": [],
   "source": [
    "loss_frequency <- data.frame(\n",
    "    half_of_a_year = seq(1, 20),\n",
    "    number_of_loss_events = rep(0, 20)           \n",
    ")"
   ]
  },
  {
   "cell_type": "code",
   "execution_count": 18,
   "id": "36d47124",
   "metadata": {},
   "outputs": [],
   "source": [
    "for(i in 1:length(ps_basel_op$Date)){\n",
    "    int1 = interval(dmy(\"08/02/2009\"), dmy(\"08/08/2009\"))\n",
    "    if(dmy(ps_basel_op$Date[i]) %within% int1 == TRUE & ps_basel_op$'Net Loss'[i] > 0.00){\n",
    "       loss_frequency$number_of_loss_events[1] = loss_frequency$number_of_loss_events[1] + 1\n",
    "    }\n",
    "    int2 = interval(dmy(\"09/08/2009\"), dmy(\"08/02/2010\"))\n",
    "    if(dmy(ps_basel_op$Date[i]) %within% int2 == TRUE & ps_basel_op$'Net Loss'[i] > 0.00){\n",
    "       loss_frequency$number_of_loss_events[2] = loss_frequency$number_of_loss_events[2] + 1\n",
    "    }\n",
    "    int3 = interval(dmy(\"09/02/2010\"), dmy(\"08/08/2010\"))\n",
    "    if(dmy(ps_basel_op$Date[i]) %within% int3 == TRUE & ps_basel_op$'Net Loss'[i] > 0.00){\n",
    "       loss_frequency$number_of_loss_events[3] = loss_frequency$number_of_loss_events[3] + 1\n",
    "    }\n",
    "    int4 = interval(dmy(\"09/08/2010\"), dmy(\"08/02/2011\"))\n",
    "    if(dmy(ps_basel_op$Date[i]) %within% int4 == TRUE & ps_basel_op$'Net Loss'[i] > 0.00){\n",
    "       loss_frequency$number_of_loss_events[4] = loss_frequency$number_of_loss_events[4] + 1\n",
    "    }\n",
    "    int5 = interval(dmy(\"09/02/2011\"), dmy(\"08/08/2011\"))\n",
    "    if(dmy(ps_basel_op$Date[i]) %within% int5 == TRUE & ps_basel_op$'Net Loss'[i] > 0.00){\n",
    "       loss_frequency$number_of_loss_events[5] = loss_frequency$number_of_loss_events[5] + 1\n",
    "    }\n",
    "    int6 = interval(dmy(\"09/08/2011\"), dmy(\"08/02/2012\"))\n",
    "    if(dmy(ps_basel_op$Date[i]) %within% int6 == TRUE & ps_basel_op$'Net Loss'[i] > 0.00){\n",
    "       loss_frequency$number_of_loss_events[6] = loss_frequency$number_of_loss_events[6] + 1\n",
    "    }\n",
    "    int7 = interval(dmy(\"09/02/2012\"), dmy(\"08/08/2012\"))\n",
    "    if(dmy(ps_basel_op$Date[i]) %within% int7 == TRUE & ps_basel_op$'Net Loss'[i] > 0.00){\n",
    "       loss_frequency$number_of_loss_events[7] = loss_frequency$number_of_loss_events[7] + 1\n",
    "    }\n",
    "    int8 = interval(dmy(\"09/08/2012\"), dmy(\"08/02/2013\"))\n",
    "    if(dmy(ps_basel_op$Date[i]) %within% int8 == TRUE & ps_basel_op$'Net Loss'[i] > 0.00){\n",
    "       loss_frequency$number_of_loss_events[8] = loss_frequency$number_of_loss_events[8] + 1\n",
    "    }\n",
    "    int9 = interval(dmy(\"09/02/2013\"), dmy(\"08/08/2013\"))\n",
    "    if(dmy(ps_basel_op$Date[i]) %within% int9 == TRUE & ps_basel_op$'Net Loss'[i] > 0.00){\n",
    "       loss_frequency$number_of_loss_events[9] = loss_frequency$number_of_loss_events[9] + 1\n",
    "    }\n",
    "    int10 = interval(dmy(\"09/08/2013\"), dmy(\"08/02/2014\"))\n",
    "    if(dmy(ps_basel_op$Date[i]) %within% int10 == TRUE & ps_basel_op$'Net Loss'[i] > 0.00){\n",
    "       loss_frequency$number_of_loss_events[10] = loss_frequency$number_of_loss_events[10] + 1\n",
    "    }\n",
    "    int11 = interval(dmy(\"09/02/2014\"), dmy(\"08/08/2014\"))\n",
    "    if(dmy(ps_basel_op$Date[i]) %within% int11 == TRUE & ps_basel_op$'Net Loss'[i] > 0.00){\n",
    "       loss_frequency$number_of_loss_events[11] = loss_frequency$number_of_loss_events[11] + 1\n",
    "    }\n",
    "    int12 = interval(dmy(\"09/08/2014\"), dmy(\"08/02/2015\"))\n",
    "    if(dmy(ps_basel_op$Date[i]) %within% int12 == TRUE & ps_basel_op$'Net Loss'[i] > 0.00){\n",
    "       loss_frequency$number_of_loss_events[12] = loss_frequency$number_of_loss_events[12] + 1\n",
    "    }\n",
    "    int13 = interval(dmy(\"09/02/2015\"), dmy(\"08/08/2015\"))\n",
    "    if(dmy(ps_basel_op$Date[i]) %within% int13 == TRUE & ps_basel_op$'Net Loss'[i] > 0.00){\n",
    "       loss_frequency$number_of_loss_events[13] = loss_frequency$number_of_loss_events[13] + 1\n",
    "    }\n",
    "    int14 = interval(dmy(\"09/08/2015\"), dmy(\"08/02/2016\"))\n",
    "    if(dmy(ps_basel_op$Date[i]) %within% int14 == TRUE & ps_basel_op$'Net Loss'[i] > 0.00){\n",
    "       loss_frequency$number_of_loss_events[14] = loss_frequency$number_of_loss_events[14] + 1\n",
    "    }\n",
    "    int15 = interval(dmy(\"09/02/2016\"), dmy(\"08/08/2016\"))\n",
    "    if(dmy(ps_basel_op$Date[i]) %within% int15 == TRUE & ps_basel_op$'Net Loss'[i] > 0.00){\n",
    "       loss_frequency$number_of_loss_events[15] = loss_frequency$number_of_loss_events[15] + 1\n",
    "    }\n",
    "    int16 = interval(dmy(\"09/08/2016\"), dmy(\"08/02/2017\"))\n",
    "    if(dmy(ps_basel_op$Date[i]) %within% int16 == TRUE & ps_basel_op$'Net Loss'[i] > 0.00){\n",
    "       loss_frequency$number_of_loss_events[16] = loss_frequency$number_of_loss_events[16] + 1\n",
    "    }\n",
    "    int17 = interval(dmy(\"09/02/2017\"), dmy(\"08/08/2017\"))\n",
    "    if(dmy(ps_basel_op$Date[i]) %within% int17 == TRUE & ps_basel_op$'Net Loss'[i] > 0.00){\n",
    "       loss_frequency$number_of_loss_events[17] = loss_frequency$number_of_loss_events[17] + 1\n",
    "    }\n",
    "    int18 = interval(dmy(\"09/08/2017\"), dmy(\"08/02/2018\"))\n",
    "    if(dmy(ps_basel_op$Date[i]) %within% int18 == TRUE & ps_basel_op$'Net Loss'[i] > 0.00){\n",
    "       loss_frequency$number_of_loss_events[18] = loss_frequency$number_of_loss_events[18] + 1\n",
    "    }\n",
    "    int19 = interval(dmy(\"09/02/2018\"), dmy(\"08/08/2018\"))\n",
    "    if(dmy(ps_basel_op$Date[i]) %within% int19 == TRUE & ps_basel_op$'Net Loss'[i] > 0.00){\n",
    "       loss_frequency$number_of_loss_events[19] = loss_frequency$number_of_loss_events[19] + 1\n",
    "    }\n",
    "    int20 = interval(dmy(\"09/08/2018\"), dmy(\"30/12/2018\"))\n",
    "    if(dmy(ps_basel_op$Date[i]) %within% int20 == TRUE & ps_basel_op$'Net Loss'[i] > 0.00){\n",
    "       loss_frequency$number_of_loss_events[20] = loss_frequency$number_of_loss_events[20] + 1\n",
    "    }\n",
    "}"
   ]
  },
  {
   "cell_type": "code",
   "execution_count": 19,
   "id": "1494ce40",
   "metadata": {},
   "outputs": [
    {
     "data": {
      "text/html": [
       "<table>\n",
       "<thead><tr><th scope=col>half_of_a_year</th><th scope=col>number_of_loss_events</th></tr></thead>\n",
       "<tbody>\n",
       "\t<tr><td> 1</td><td>25</td></tr>\n",
       "\t<tr><td> 2</td><td> 9</td></tr>\n",
       "\t<tr><td> 3</td><td>13</td></tr>\n",
       "\t<tr><td> 4</td><td>17</td></tr>\n",
       "\t<tr><td> 5</td><td>35</td></tr>\n",
       "\t<tr><td> 6</td><td>27</td></tr>\n",
       "\t<tr><td> 7</td><td>42</td></tr>\n",
       "\t<tr><td> 8</td><td>41</td></tr>\n",
       "\t<tr><td> 9</td><td> 9</td></tr>\n",
       "\t<tr><td>10</td><td>14</td></tr>\n",
       "\t<tr><td>11</td><td>38</td></tr>\n",
       "\t<tr><td>12</td><td>18</td></tr>\n",
       "\t<tr><td>13</td><td>11</td></tr>\n",
       "\t<tr><td>14</td><td>18</td></tr>\n",
       "\t<tr><td>15</td><td>22</td></tr>\n",
       "\t<tr><td>16</td><td>22</td></tr>\n",
       "\t<tr><td>17</td><td>21</td></tr>\n",
       "\t<tr><td>18</td><td>28</td></tr>\n",
       "\t<tr><td>19</td><td>21</td></tr>\n",
       "\t<tr><td>20</td><td>22</td></tr>\n",
       "</tbody>\n",
       "</table>\n"
      ],
      "text/latex": [
       "\\begin{tabular}{r|ll}\n",
       " half\\_of\\_a\\_year & number\\_of\\_loss\\_events\\\\\n",
       "\\hline\n",
       "\t  1 & 25\\\\\n",
       "\t  2 &  9\\\\\n",
       "\t  3 & 13\\\\\n",
       "\t  4 & 17\\\\\n",
       "\t  5 & 35\\\\\n",
       "\t  6 & 27\\\\\n",
       "\t  7 & 42\\\\\n",
       "\t  8 & 41\\\\\n",
       "\t  9 &  9\\\\\n",
       "\t 10 & 14\\\\\n",
       "\t 11 & 38\\\\\n",
       "\t 12 & 18\\\\\n",
       "\t 13 & 11\\\\\n",
       "\t 14 & 18\\\\\n",
       "\t 15 & 22\\\\\n",
       "\t 16 & 22\\\\\n",
       "\t 17 & 21\\\\\n",
       "\t 18 & 28\\\\\n",
       "\t 19 & 21\\\\\n",
       "\t 20 & 22\\\\\n",
       "\\end{tabular}\n"
      ],
      "text/markdown": [
       "\n",
       "| half_of_a_year | number_of_loss_events |\n",
       "|---|---|\n",
       "|  1 | 25 |\n",
       "|  2 |  9 |\n",
       "|  3 | 13 |\n",
       "|  4 | 17 |\n",
       "|  5 | 35 |\n",
       "|  6 | 27 |\n",
       "|  7 | 42 |\n",
       "|  8 | 41 |\n",
       "|  9 |  9 |\n",
       "| 10 | 14 |\n",
       "| 11 | 38 |\n",
       "| 12 | 18 |\n",
       "| 13 | 11 |\n",
       "| 14 | 18 |\n",
       "| 15 | 22 |\n",
       "| 16 | 22 |\n",
       "| 17 | 21 |\n",
       "| 18 | 28 |\n",
       "| 19 | 21 |\n",
       "| 20 | 22 |\n",
       "\n"
      ],
      "text/plain": [
       "   half_of_a_year number_of_loss_events\n",
       "1   1             25                   \n",
       "2   2              9                   \n",
       "3   3             13                   \n",
       "4   4             17                   \n",
       "5   5             35                   \n",
       "6   6             27                   \n",
       "7   7             42                   \n",
       "8   8             41                   \n",
       "9   9              9                   \n",
       "10 10             14                   \n",
       "11 11             38                   \n",
       "12 12             18                   \n",
       "13 13             11                   \n",
       "14 14             18                   \n",
       "15 15             22                   \n",
       "16 16             22                   \n",
       "17 17             21                   \n",
       "18 18             28                   \n",
       "19 19             21                   \n",
       "20 20             22                   "
      ]
     },
     "metadata": {},
     "output_type": "display_data"
    }
   ],
   "source": [
    "loss_frequency"
   ]
  },
  {
   "cell_type": "code",
   "execution_count": 20,
   "id": "e726f883",
   "metadata": {},
   "outputs": [
    {
     "data": {
      "image/png": "[encoded data removed]",
      "text/plain": [
       "plot without title"
      ]
     },
     "metadata": {},
     "output_type": "display_data"
    }
   ],
   "source": [
    "ggplot(loss_frequency, aes(x = half_of_a_year, y = number_of_loss_events)) +\n",
    "geom_bar(stat = \"identity\", width=0.7, fill=\"#0474BA\") +\n",
    "ggtitle(\"Number of loss events per half of a year\") +\n",
    "ylab('Number of events') + xlab('Half of a year') +\n",
    "theme_minimal()"
   ]
  },
  {
   "cell_type": "markdown",
   "id": "cc534271",
   "metadata": {},
   "source": [
    "**Fitting the best possible distribution of the number of operational events**\n",
    "\n",
    "a) Pearson's chi-square test\n",
    "\n",
    "H0: the data can be described by the Pearson distribution\n",
    "\n",
    "H1: the data cannot be described by the Pearson distribution"
   ]
  },
  {
   "cell_type": "code",
   "execution_count": 21,
   "id": "70120dde",
   "metadata": {},
   "outputs": [
    {
     "data": {
      "text/plain": [
       "\n",
       "\tChi-squared test for given probabilities\n",
       "\n",
       "data:  loss_frequency$number_of_loss_events\n",
       "X-squared = 84.351, df = 19, p-value = 3.27e-10\n"
      ]
     },
     "metadata": {},
     "output_type": "display_data"
    }
   ],
   "source": [
    "chisq.test(loss_frequency$number_of_loss_events) "
   ]
  },
  {
   "cell_type": "markdown",
   "id": "a1c4f34a",
   "metadata": {},
   "source": [
    "The p-value is less than 0.05, which means that H0 is rejected. The observations cannot be described by the Pearson distribution."
   ]
  },
  {
   "cell_type": "markdown",
   "id": "55fd4607",
   "metadata": {},
   "source": [
    "b) Kolmogorov-Smirnov test\n",
    "\n",
    "H0: the data can be described by a normal distribution\n",
    "\n",
    "H1: the data cannot be described by a normal distribution"
   ]
  },
  {
   "cell_type": "code",
   "execution_count": 22,
   "id": "4a3f24b0",
   "metadata": {},
   "outputs": [
    {
     "data": {
      "text/plain": [
       "\n",
       "\tOne-sample Kolmogorov-Smirnov test\n",
       "\n",
       "data:  loss_frequency$number_of_loss_events\n",
       "D = 1, p-value < 2.2e-16\n",
       "alternative hypothesis: two-sided\n"
      ]
     },
     "metadata": {},
     "output_type": "display_data"
    }
   ],
   "source": [
    "ks.test(loss_frequency$number_of_loss_events, \"pnorm\")"
   ]
  },
  {
   "cell_type": "markdown",
   "id": "399c3ed1",
   "metadata": {},
   "source": [
    "The p-value is less than 0.05, which means that H0 is rejected. The observations cannot be described by a normal distribution."
   ]
  },
  {
   "cell_type": "markdown",
   "id": "41fc0fce",
   "metadata": {},
   "source": [
    "c) Anderson-Darling test\n",
    "\n",
    "H0: the data can be described by a normal distribution\n",
    "\n",
    "H1: the data cannot be described by a normal distribution"
   ]
  },
  {
   "cell_type": "code",
   "execution_count": 23,
   "id": "f1dd48ee",
   "metadata": {},
   "outputs": [
    {
     "data": {
      "text/plain": [
       "\n",
       "\tAnderson-Darling normality test\n",
       "\n",
       "data:  loss_frequency$number_of_loss_events\n",
       "A = 0.48079, p-value = 0.2069\n"
      ]
     },
     "metadata": {},
     "output_type": "display_data"
    }
   ],
   "source": [
    "ad.test(loss_frequency$number_of_loss_events)"
   ]
  },
  {
   "cell_type": "markdown",
   "id": "be52cf59",
   "metadata": {},
   "source": [
    "The p-value is less than 0.05, which means that H0 is rejected. The observations cannot be described by a normal distribution."
   ]
  },
  {
   "cell_type": "markdown",
   "id": "9b6cc5dc",
   "metadata": {},
   "source": [
    "The problem assumes an **exponential distribution**."
   ]
  },
  {
   "cell_type": "markdown",
   "id": "ef13d2c6",
   "metadata": {},
   "source": [
    "**Severity of losses**"
   ]
  },
  {
   "cell_type": "code",
   "execution_count": 24,
   "id": "47c77100",
   "metadata": {},
   "outputs": [],
   "source": [
    "loss_severity <- c()\n",
    "for(i in 1:length(ps_basel_op$Date)){\n",
    "    if(ps_basel_op$'Net Loss'[i] > 0.00){\n",
    "        loss_severity <- append(loss_severity, ps_basel_op$'Net Loss'[i])\n",
    "    }\n",
    "}"
   ]
  },
  {
   "cell_type": "code",
   "execution_count": 25,
   "id": "2acd50e9",
   "metadata": {},
   "outputs": [
    {
     "data": {
      "image/png": "[encoded data removed]",
      "text/plain": [
       "plot without title"
      ]
     },
     "metadata": {},
     "output_type": "display_data"
    }
   ],
   "source": [
    "loss_severity <- data.frame(\n",
    "loss = loss_severity\n",
    ")\n",
    "\n",
    "ggplot(loss_severity, aes(x = loss)) +\n",
    "geom_density(fill=\"#0474BA\", alpha=0.8) +\n",
    "ggtitle(\"Loss severity distribution\") +\n",
    "ylab('Density') + xlab('Loss') +\n",
    "theme_minimal()"
   ]
  },
  {
   "cell_type": "markdown",
   "id": "40c317d8",
   "metadata": {},
   "source": [
    "**Matching the best possible distribution of operational event severity**\n",
    "\n",
    "a) Pearson's chi-square test\n",
    "\n",
    "H0: the data can be described by the Pearson distribution\n",
    "\n",
    "H1: the data cannot be described by the Pearson distribution"
   ]
  },
  {
   "cell_type": "code",
   "execution_count": 26,
   "id": "afdd307e",
   "metadata": {},
   "outputs": [
    {
     "data": {
      "text/plain": [
       "\n",
       "\tChi-squared test for given probabilities\n",
       "\n",
       "data:  loss_severity$loss\n",
       "X-squared = 1644488224, df = 452, p-value < 2.2e-16\n"
      ]
     },
     "metadata": {},
     "output_type": "display_data"
    }
   ],
   "source": [
    "chisq.test(loss_severity$loss) "
   ]
  },
  {
   "cell_type": "markdown",
   "id": "4e57822e",
   "metadata": {},
   "source": [
    "The p-value is less than 0.05, which means that H0 is rejected. The observations cannot be described by the Pearson distribution.\n",
    "\n",
    "b) Kolmogorov-Smirnov test\n",
    "\n",
    "H0: the data can be described by a normal distribution\n",
    "\n",
    "H1: the data cannot be described by a normal distribution"
   ]
  },
  {
   "cell_type": "code",
   "execution_count": 27,
   "id": "e7e84646",
   "metadata": {},
   "outputs": [
    {
     "data": {
      "text/plain": [
       "\n",
       "\tOne-sample Kolmogorov-Smirnov test\n",
       "\n",
       "data:  loss_severity$loss\n",
       "D = 1, p-value < 2.2e-16\n",
       "alternative hypothesis: two-sided\n"
      ]
     },
     "metadata": {},
     "output_type": "display_data"
    }
   ],
   "source": [
    "ks.test(loss_severity$loss, \"pnorm\")"
   ]
  },
  {
   "cell_type": "markdown",
   "id": "3805cc6f",
   "metadata": {},
   "source": [
    "The p-value is less than 0.05, which means that H0 is rejected. The observations cannot be described by a normal distribution.\n",
    "\n",
    "c) Anderson-Darling test\n",
    "\n",
    "H0: the data can be described by a normal distribution\n",
    "\n",
    "H1: the data cannot be described by a normal distribution"
   ]
  },
  {
   "cell_type": "code",
   "execution_count": 28,
   "id": "aabe6e47",
   "metadata": {},
   "outputs": [
    {
     "data": {
      "text/plain": [
       "\n",
       "\tAnderson-Darling normality test\n",
       "\n",
       "data:  loss_severity$loss\n",
       "A = 157.62, p-value < 2.2e-16\n"
      ]
     },
     "metadata": {},
     "output_type": "display_data"
    }
   ],
   "source": [
    "ad.test(loss_severity$loss)"
   ]
  },
  {
   "cell_type": "markdown",
   "id": "3f9f7cf0",
   "metadata": {},
   "source": [
    "The p-value is less than 0.05, which means that H0 is rejected. The observations cannot be described by a normal distribution.\n",
    "\n",
    "**Observing the visualizations in the task, an exponential distribution is assumed.**"
   ]
  },
  {
   "cell_type": "markdown",
   "id": "e8106bbe",
   "metadata": {},
   "source": [
    "## Exercise 3"
   ]
  },
  {
   "cell_type": "markdown",
   "id": "fca93252",
   "metadata": {},
   "source": [
    "**Determination of 99.9 OpVaR and 99.9 OpES using the Monte Carlo method.**\n",
    "\n",
    "The task uses the established distribution from task 2, i.e. the exponential distribution."
   ]
  },
  {
   "cell_type": "code",
   "execution_count": 140,
   "id": "ff436e8c",
   "metadata": {},
   "outputs": [
    {
     "data": {
      "text/html": [
       "'OpVaR: 7.114293'"
      ],
      "text/latex": [
       "'OpVaR: 7.114293'"
      ],
      "text/markdown": [
       "'OpVaR: 7.114293'"
      ],
      "text/plain": [
       "[1] \"OpVaR: 7.114293\""
      ]
     },
     "metadata": {},
     "output_type": "display_data"
    },
    {
     "data": {
      "text/html": [
       "'OpES: 7.814895'"
      ],
      "text/latex": [
       "'OpES: 7.814895'"
      ],
      "text/markdown": [
       "'OpES: 7.814895'"
      ],
      "text/plain": [
       "[1] \"OpES: 7.814895\""
      ]
     },
     "metadata": {},
     "output_type": "display_data"
    }
   ],
   "source": [
    "set.seed(123) \n",
    "          \n",
    "losses <- rexp(10000, rate = 1)\n",
    "OpVaR <- quantile(losses, 0.999)\n",
    "es_vector <- c()\n",
    "for(i in 1:10000){\n",
    "    if(losses[i] > OpVaR){\n",
    "        es_vector <- append(es_vector, losses[i])\n",
    "    }\n",
    "}\n",
    "OpES <- mean(es_vector)\n",
    "sprintf(\"OpVaR: %f\", OpVaR)\n",
    "sprintf(\"OpES: %f\", OpES)"
   ]
  },
  {
   "cell_type": "code",
   "execution_count": 165,
   "id": "edf8495d",
   "metadata": {},
   "outputs": [
    {
     "data": {
      "image/png": "[encoded data removed]",
      "text/plain": [
       "Plot with title \"Exponential distribution of losses with OpVaR at 99.9% & OpES at 99.9%\""
      ]
     },
     "metadata": {},
     "output_type": "display_data"
    }
   ],
   "source": [
    "hist(losses,\n",
    "     breaks = 50,\n",
    "     freq = FALSE,\n",
    "     col = '#0474BA',\n",
    "     main =\"Exponential distribution of losses with OpVaR at 99.9% & OpES at 99.9%\",\n",
    "     xlab =\"Losses\")\n",
    "\n",
    "lines(seq(0, 10, by=0.5),\n",
    "      dexp(xvals, rate = 1),\n",
    "      lwd=3,\n",
    "      col=\"red\")\n",
    "\n",
    "abline(v = OpVaR, lwd=3,lty = 3, col=\"orange\")\n",
    "abline(v = OpES, lwd=3, lty = 3, col=\"green\")\n",
    "\n",
    "legend(\"top\", c(\"Theoretical distribution\", \"OpVaR\", \"OpES\"),\n",
    "       bty = \"n\", lwd = 3, col = c(\"red\", \"orange\", \"green\"))"
   ]
  }
 ],
 "metadata": {
  "kernelspec": {
   "display_name": "R",
   "language": "R",
   "name": "ir"
  },
  "language_info": {
   "codemirror_mode": "r",
   "file_extension": ".r",
   "mimetype": "text/x-r-source",
   "name": "R",
   "pygments_lexer": "r",
   "version": "3.6.1"
  }
 },
 "nbformat": 4,
 "nbformat_minor": 5
}
